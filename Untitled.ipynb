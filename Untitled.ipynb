{
 "cells": [
  {
   "cell_type": "code",
   "execution_count": 1,
   "id": "7971d833-e981-4e9e-aeef-3b29a9ced463",
   "metadata": {
    "tags": []
   },
   "outputs": [
    {
     "name": "stdout",
     "output_type": "stream",
     "text": [
      "Added 'figs/' to .gitignore\n"
     ]
    }
   ],
   "source": [
    "# Run this in a Jupyter cell\n",
    "with open('.gitignore', 'a+') as f:\n",
    "    f.seek(0)\n",
    "    content = f.read()\n",
    "    if 'figs/' not in content:\n",
    "        if content and not content.endswith('\\n'):\n",
    "            f.write('\\n')\n",
    "        f.write('figs/\\n')\n",
    "        print(\"Added 'figs/' to .gitignore\")\n",
    "    else:\n",
    "        print(\"'figs/' already in .gitignore\")"
   ]
  },
  {
   "cell_type": "code",
   "execution_count": 2,
   "id": "cc5fc5a0-6d08-4944-b9d4-e8ca0986f27b",
   "metadata": {
    "tags": []
   },
   "outputs": [
    {
     "name": "stdout",
     "output_type": "stream",
     "text": [
      "Current working directory: /home/jupyter/CB_2649\n",
      "\n",
      "All files in directory:\n",
      "docs\n",
      "LICENSE\n",
      ".ipynb_checkpoints\n",
      ".git\n",
      "Untitled.ipynb\n",
      ".gitignore\n",
      "notebooks\n",
      "figs\n",
      "code\n",
      "data\n",
      "requirements.txt\n",
      "README.md\n",
      "\n",
      ".gitignore exists!\n",
      "\n",
      "Content of .gitignore:\n",
      "# History files\n",
      ".Rhistory\n",
      ".Rapp.history\n",
      "\n",
      "# Session Data files\n",
      ".RData\n",
      "\n",
      "# User-specific files\n",
      ".Ruserdata\n",
      "\n",
      "# Example code in package build process\n",
      "*-Ex.R\n",
      "\n",
      "# Output files from R CMD build\n",
      "/*.tar.gz\n",
      "\n",
      "# Output files from R CMD check\n",
      "/*.Rcheck/\n",
      "\n",
      "# RStudio files\n",
      ".Rproj.user/\n",
      "\n",
      "# produced vignettes\n",
      "vignettes/*.html\n",
      "vignettes/*.pdf\n",
      "\n",
      "# OAuth2 token, see https://github.com/hadley/httr/releases/tag/v0.3\n",
      ".httr-oauth\n",
      "\n",
      "# knitr and R markdown default cache directories\n",
      "*_cache/\n",
      "/cache/\n",
      "\n",
      "# Temporary files created by R markdown\n",
      "*.utf8.md\n",
      "*.knit.md\n",
      "\n",
      "# R Environment Variables\n",
      ".Renviron\n",
      ".ipynb_checkpoints/\n",
      "figs/\n",
      "\n"
     ]
    }
   ],
   "source": [
    "import os\n",
    "\n",
    "# Check current working directory\n",
    "current_dir = os.getcwd()\n",
    "print(f\"Current working directory: {current_dir}\")\n",
    "\n",
    "# List all files including hidden ones\n",
    "all_files = os.listdir(current_dir)\n",
    "print(\"\\nAll files in directory:\")\n",
    "for file in all_files:\n",
    "    print(file)\n",
    "\n",
    "# Check specifically for .gitignore\n",
    "if '.gitignore' in all_files:\n",
    "    print(\"\\n.gitignore exists!\")\n",
    "    # Show content of .gitignore\n",
    "    with open('.gitignore', 'r') as f:\n",
    "        content = f.read()\n",
    "    print(\"\\nContent of .gitignore:\")\n",
    "    print(content)\n",
    "else:\n",
    "    print(\"\\n.gitignore does not exist in the current directory.\")\n",
    "    \n",
    "    # Let's create it again to be sure\n",
    "    with open('.gitignore', 'w') as f:\n",
    "        f.write('figs/\\n')\n",
    "    print(\"Created new .gitignore file with 'figs/' entry\")"
   ]
  },
  {
   "cell_type": "code",
   "execution_count": null,
   "id": "0f18c8a6-35cc-473c-91d1-5ad63de1bfd2",
   "metadata": {},
   "outputs": [],
   "source": []
  }
 ],
 "metadata": {
  "environment": {
   "kernel": "python3",
   "name": "r-cpu.m125",
   "type": "gcloud",
   "uri": "us-docker.pkg.dev/deeplearning-platform-release/gcr.io/r-cpu:m125"
  },
  "kernelspec": {
   "display_name": "Python 3 (Local)",
   "language": "python",
   "name": "python3"
  },
  "language_info": {
   "codemirror_mode": {
    "name": "ipython",
    "version": 3
   },
   "file_extension": ".py",
   "mimetype": "text/x-python",
   "name": "python",
   "nbconvert_exporter": "python",
   "pygments_lexer": "ipython3",
   "version": "3.10.15"
  }
 },
 "nbformat": 4,
 "nbformat_minor": 5
}
