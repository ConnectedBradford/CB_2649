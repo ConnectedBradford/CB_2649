{
 "cells": [
  {
   "cell_type": "markdown",
   "id": "9e0edb35-50ca-47d3-960c-394f9594a682",
   "metadata": {},
   "source": [
    "# Looked After Children (LAC) LSOA Analysis\n"
   ]
  },
  {
   "cell_type": "markdown",
   "id": "312e3dac-1285-47df-b9f0-bdf454c02da8",
   "metadata": {},
   "source": [
    "# Importing Necessary Libraries"
   ]
  },
  {
   "cell_type": "code",
   "execution_count": null,
   "id": "988ed269-d7e1-4930-ba68-7c11e314c5fa",
   "metadata": {
    "tags": []
   },
   "outputs": [],
   "source": [
    "#import bigquery\n",
    "from google.cloud import bigquery\n",
    "from google.cloud import bigquery_storage\n",
    " \n",
    "#other needed libraries\n",
    "import os\n",
    "import pandas as pd\n",
    "import numpy as np\n",
    "import pandas_gbq\n",
    "import seaborn as sns\n",
    "from dateutil.relativedelta import relativedelta\n",
    "import matplotlib.pyplot as plt\n",
    "import plotly.express as px\n",
    "import json\n",
    "import geopandas as gpd\n",
    "import mapclassify\n",
    "import folium\n",
    "from scipy import stats\n",
    "import contextily as ctx\n",
    "import libpysal\n",
    "from pysal.explore import esda\n",
    "from esda.moran import Moran, Moran_Local\n",
    "from libpysal.weights import Queen, Rook\n",
    "from splot.esda import plot_local_autocorrelation, lisa_cluster\n",
    "import statsmodels.api as sm\n",
    "\n",
    "import sys\n",
    "sys.path.append('../code')\n",
    "from data_cleaning import gender_mapping\n",
    "\n",
    "import warnings\n",
    "warnings.filterwarnings('ignore')\n",
    "\n",
    "plt.style.use('tableau-colorblind10')\n",
    "color='#702A7D'"
   ]
  },
  {
   "cell_type": "code",
   "execution_count": null,
   "id": "50de648f-6415-4cb5-be1f-f4b2a271022a",
   "metadata": {
    "tags": []
   },
   "outputs": [],
   "source": [
    "os.environ[\"GOOGLE_APPLICATION_CREDENTIALS\"] = \"/home/jupyter/.config/gcloud/application_default_credentials.json\"\n",
    "\n",
    "#Instatiate BigQuery Client\n",
    "client = bigquery.Client()"
   ]
  },
  {
   "cell_type": "markdown",
   "id": "9ac3e06c-d44a-48e6-b322-3fe0df973f09",
   "metadata": {},
   "source": [
    "# Define Query to Get Data"
   ]
  },
  {
   "cell_type": "code",
   "execution_count": null,
   "id": "c8405091-564a-4c35-a5c4-7877d7dd698a",
   "metadata": {
    "tags": []
   },
   "outputs": [],
   "source": [
    "query = \"\"\"\n",
    "WITH lac_WithAddress AS (\n",
    "  SELECT\n",
    "    lac.person_id,\n",
    "    lac.StartDate,\n",
    "    lac.EndDate,\n",
    "    lac.EthnicOrigin,\n",
    "    DATE(p.birth_datetime) AS DateOfBirth,\n",
    "    p.gender_source_value AS Gender,\n",
    "    a.SOA AS LSOA,\n",
    "    /* For each lac row, rank the joined address rows \n",
    "       (if any) by DateEventRecorded (converted to DATE) descending */\n",
    "       \n",
    "    ROW_NUMBER() OVER (\n",
    "      PARTITION BY lac.person_id, lac.StartDate\n",
    "      ORDER BY DATE(a.DateEvent) DESC\n",
    "    ) AS rn\n",
    "  FROM\n",
    "    `yhcr-prd-bradfor-bia-core.CB_2649.cb_bmbc_ChildrensSocialServices_CiC` lac\n",
    "  LEFT JOIN\n",
    "    `yhcr-prd-bradfor-bia-core.CB_2649.tbl_AddressHistory_New` a\n",
    "      ON lac.person_id = a.person_id\n",
    "      AND DATE(a.DateEvent) <= lac.StartDate\n",
    "  LEFT JOIN\n",
    "    `yhcr-prd-bradfor-bia-core.CB_2649.person` p\n",
    "      ON lac.person_id = p.person_id\n",
    ")\n",
    "SELECT \n",
    "  person_id,\n",
    "  Gender,      \n",
    "  StartDate,\n",
    "  EndDate,\n",
    "  EthnicOrigin,\n",
    "  DateOfBirth,\n",
    "  LSOA\n",
    "FROM\n",
    "  lac_WithAddress\n",
    "WHERE \n",
    "  rn = 1;\n",
    "\"\"\""
   ]
  },
  {
   "cell_type": "markdown",
   "id": "528c2df3-a037-46fa-9e21-73b4aeb75ba0",
   "metadata": {},
   "source": [
    "# Load Query into Pandas Dataframe"
   ]
  },
  {
   "cell_type": "code",
   "execution_count": null,
   "id": "97fc3dac-d024-4627-b178-537cd267a968",
   "metadata": {
    "tags": []
   },
   "outputs": [],
   "source": [
    "lac = pandas_gbq.read_gbq(query)"
   ]
  },
  {
   "cell_type": "code",
   "execution_count": null,
   "id": "3de76237-6d54-4fe9-b3bb-9ed2d58491ab",
   "metadata": {
    "tags": []
   },
   "outputs": [],
   "source": [
    "# Information about the columns\n",
    "lac.info()"
   ]
  },
  {
   "cell_type": "code",
   "execution_count": null,
   "id": "7089a86a-e3db-4b59-94d2-746a86e8b006",
   "metadata": {
    "tags": []
   },
   "outputs": [],
   "source": [
    "# Count number of missing values\n",
    "missing_values = lac.isnull().sum()\n",
    "total_values = lac.shape[0]\n",
    "percentage_missing = round(missing_values/total_values*100, 2)\n",
    "percentage_missing"
   ]
  },
  {
   "cell_type": "code",
   "execution_count": null,
   "id": "6d8721d5-b9d8-43a7-8897-4e1a1bfeca47",
   "metadata": {
    "tags": []
   },
   "outputs": [],
   "source": [
    "# Strip whitespace from all string/object columns\n",
    "lac = lac.apply(lambda x: x.str.strip() if x.dtype == \"object\" else x)"
   ]
  },
  {
   "cell_type": "code",
   "execution_count": null,
   "id": "287fd42b-87c0-4139-a5ca-5faf56e4ae97",
   "metadata": {
    "tags": []
   },
   "outputs": [],
   "source": [
    "# Clean gender column\n",
    "gender_mapping(lac, 'Gender')"
   ]
  },
  {
   "cell_type": "markdown",
   "id": "3a6057a1-47f2-4c26-85cc-b6da73b6cd26",
   "metadata": {},
   "source": [
    "# Load Bradford Children Population Data 0-17 years, 2021.\n",
    "source: https://www.ons.gov.uk/peoplepopulationandcommunity/populationandmigration/populationestimates/datasets/lowersuperoutputareamidyearpopulationestimates"
   ]
  },
  {
   "cell_type": "code",
   "execution_count": null,
   "id": "f3babfe2-5549-41e0-9d86-a22ffbe39422",
   "metadata": {
    "tags": []
   },
   "outputs": [],
   "source": [
    "population_data_file_path = '../data/Bradford_Children_population_0-17_2021.csv'\n",
    "population_data = pd.read_csv(population_data_file_path)\n",
    "population_data.columns"
   ]
  },
  {
   "cell_type": "markdown",
   "id": "407e6520-e569-4073-a069-361735d230f8",
   "metadata": {},
   "source": [
    "# Load Bradford Boundary Data\n",
    "source: https://borders.ukdataservice.ac.uk/"
   ]
  },
  {
   "cell_type": "code",
   "execution_count": null,
   "id": "33a018ca-99f2-4d0e-9c26-52ac3263a287",
   "metadata": {
    "tags": []
   },
   "outputs": [],
   "source": [
    "boundary_data_filepath = \"../data/BradfordBoundaryData/england_lsoa_2021.shp\"\n",
    "bradord_boundary_data = gpd.read_file(boundary_data_filepath)\n",
    "\n",
    "# Print data type and crs\n",
    "print(type(bradord_boundary_data))\n",
    "print(bradord_boundary_data.crs)\n",
    "print(bradord_boundary_data.columns)"
   ]
  },
  {
   "cell_type": "markdown",
   "id": "b24a6dfe-c551-4383-82c3-a657f317e644",
   "metadata": {},
   "source": [
    "# Load Index of Multiple Deprivation (IMD) Data\n",
    "source: https://data.cdrc.ac.uk/dataset/index-multiple-deprivation-imd"
   ]
  },
  {
   "cell_type": "code",
   "execution_count": null,
   "id": "b385fb00-a7ab-4574-9fba-a84155ba5d25",
   "metadata": {
    "tags": []
   },
   "outputs": [],
   "source": [
    "imd_filepath = \"../data/English IMD 2019/IMD_2019.shp\"\n",
    "imd = gpd.read_file(imd_filepath)"
   ]
  },
  {
   "cell_type": "code",
   "execution_count": null,
   "id": "23e15ff9-eb38-48f2-8443-234ca7fceab5",
   "metadata": {
    "tags": []
   },
   "outputs": [],
   "source": [
    "# Display the columns in the IMD data\n",
    "imd.columns"
   ]
  },
  {
   "cell_type": "code",
   "execution_count": null,
   "id": "c508851b-fac7-4481-9fcc-3e5d426eb226",
   "metadata": {
    "tags": []
   },
   "outputs": [],
   "source": [
    "# Display the map\n",
    "\n",
    "bradord_boundary_data.plot();"
   ]
  },
  {
   "cell_type": "code",
   "execution_count": null,
   "id": "d981f70f-0a4b-468c-bb14-c3013411f82c",
   "metadata": {
    "tags": []
   },
   "outputs": [],
   "source": [
    "# Drop rows where LSOA is missing\n",
    "lac = lac.dropna(subset=['LSOA'])\n",
    "lac.info()"
   ]
  },
  {
   "cell_type": "code",
   "execution_count": null,
   "id": "1aa048de-1fa5-4d0d-aa66-1916b1b2d04a",
   "metadata": {
    "tags": []
   },
   "outputs": [],
   "source": [
    "# Convert dates data types \n",
    "dates_columns = ['StartDate', 'EndDate', 'DateOfBirth']\n",
    "lac[dates_columns] = lac[dates_columns].apply(pd.to_datetime)"
   ]
  },
  {
   "cell_type": "code",
   "execution_count": null,
   "id": "d67cd3ac-99aa-4180-82d1-63cecba9ed20",
   "metadata": {
    "tags": []
   },
   "outputs": [],
   "source": [
    "# Creating New Columns\n",
    "\n",
    "# Number of Days in Intervention\n",
    "lac['num_of_days_in_intervention'] = (lac['EndDate'] - lac['StartDate']).dt.days\n",
    "\n",
    "\n",
    "# Calculate age at entry (completed years)\n",
    "lac['age_at_entry'] = lac.apply(\n",
    "    lambda row: relativedelta(row['StartDate'], row['DateOfBirth']).years,\n",
    "    axis=1\n",
    ").astype('int')\n",
    "\n",
    "# Keep rows where age is between 0-17\n",
    "lac = lac.loc[lac['age_at_entry'] < 18]\n",
    "\n",
    "# Age Binning\n",
    "bins = [0, 1, 4, 9, 15, 16]\n",
    "labels = ['Under 1', '1-4', '5-9', '10-15', '16+']\n",
    "lac['entry_agegroup'] = pd.cut(lac['age_at_entry'], \n",
    "                             bins=bins, \n",
    "                             labels=labels,\n",
    "                             right=True)"
   ]
  },
  {
   "cell_type": "code",
   "execution_count": null,
   "id": "6a28f4aa-66bd-4194-9fcb-46f1becd6f7d",
   "metadata": {
    "tags": []
   },
   "outputs": [],
   "source": [
    "# Example of unique LSOA prefixes\n",
    "lac['lsoa_prefix'] = lac['LSOA'].str[:3]\n",
    "print(lac['lsoa_prefix'].unique())"
   ]
  },
  {
   "cell_type": "code",
   "execution_count": null,
   "id": "68d1bff9-561c-4eee-a43d-09dded0141ce",
   "metadata": {
    "tags": []
   },
   "outputs": [],
   "source": [
    "# Filter lac to keep only English LSOAs (starting with 'E01') and remove empty strings\n",
    "lac_english_lsoa = lac[lac['LSOA'].str.startswith('E01', na=False)].copy()\n",
    "\n",
    "print(f\"Number of rows in lac before filtering: {len(lac)}\")\n",
    "print(f\"Number of rows in lac_english_lsoa after filtering: {len(lac_english_lsoa)}\")"
   ]
  },
  {
   "cell_type": "code",
   "execution_count": null,
   "id": "d75a1bad-ce61-41e8-a2d0-8111d18aec2a",
   "metadata": {
    "tags": []
   },
   "outputs": [],
   "source": [
    "lac_english_lsoa['LSOA'].nunique()"
   ]
  },
  {
   "cell_type": "markdown",
   "id": "93f54933-1fc3-4937-a276-ddd069b7c48d",
   "metadata": {},
   "source": [
    "# Merge intervention and boundary data"
   ]
  },
  {
   "cell_type": "code",
   "execution_count": null,
   "id": "bac3fa20-651f-4ebb-93ec-a046136f5757",
   "metadata": {
    "tags": []
   },
   "outputs": [],
   "source": [
    "# 1. Check for missing matches before merging\n",
    "print(\"Bradford boundary unique LSOAs:\", len(bradord_boundary_data['lsoa21cd'].unique()))\n",
    "print(\"lac English unique LSOAs:\", len(lac_english_lsoa['LSOA'].unique()))\n",
    "print(\"Common LSOAs:\", len(set(bradord_boundary_data['lsoa21cd']).intersection(set(lac_english_lsoa['LSOA']))))\n",
    "\n",
    "# 2. Use left merge to preserve geometry\n",
    "merged_data = bradord_boundary_data.merge(\n",
    "    lac_english_lsoa,\n",
    "    left_on='lsoa21cd',\n",
    "    right_on='LSOA',\n",
    "    how='left',\n",
    ")\n",
    "\n",
    "# 3. Verify geometry column is preserved\n",
    "print(\"Geometry column present:\", 'geometry' in merged_data.columns)\n",
    "print(merged_data.crs)"
   ]
  },
  {
   "cell_type": "code",
   "execution_count": null,
   "id": "45668b0f-30b9-451f-a4ec-4d7ba22fb2ec",
   "metadata": {
    "tags": []
   },
   "outputs": [],
   "source": [
    "# Confirm the map plot\n",
    "merged_data.plot()"
   ]
  },
  {
   "cell_type": "code",
   "execution_count": null,
   "id": "e9d27a4b-972b-4a61-889a-5b531a789c01",
   "metadata": {
    "tags": []
   },
   "outputs": [],
   "source": [
    "merged_data.info()"
   ]
  },
  {
   "cell_type": "code",
   "execution_count": null,
   "id": "1694a0b4-7bde-4c31-87a8-ee50679ec314",
   "metadata": {
    "tags": []
   },
   "outputs": [],
   "source": [
    "# Drop unwanted columns\n",
    "columns_to_drop = ['lsoa21nm', 'label', 'LSOA']\n",
    "merged_data.drop(columns=columns_to_drop, inplace=True)"
   ]
  },
  {
   "cell_type": "markdown",
   "id": "2c8d6dc9-6674-4e59-8226-a9657772f747",
   "metadata": {
    "tags": []
   },
   "source": [
    "#### Number of LAC per LSOA - Is there a significant variation in number of LAC across LSOAs"
   ]
  },
  {
   "cell_type": "code",
   "execution_count": null,
   "id": "57fb8bfe-17c2-4b67-b54a-822612075e18",
   "metadata": {},
   "outputs": [],
   "source": [
    "# Group by LSOA and count the number of children\n",
    "children_per_lsoa = merged_data.groupby('lsoa21cd', as_index=False).agg(\n",
    "    children_count=('lsoa21cd', 'size'),\n",
    "    geometry=('geometry', 'first')\n",
    ").pipe(gpd.GeoDataFrame)\n",
    "\n",
    "# Merge with IMD Data\n",
    "columns_to_include_from_imd = [\n",
    "    'lsoa11cd', 'IMD_Decile', 'IMDScore',\n",
    "    'IDCDec', 'CYPDec', 'IncDec', 'EmpDec',\n",
    "    'EduDec', 'CriDec', 'BHSDec', 'EnvDec',\n",
    "    'HDDDec', 'DepChi'\n",
    "]\n",
    "\n",
    "children_per_lsoa = children_per_lsoa.merge(\n",
    "    imd[columns_to_include_from_imd],\n",
    "    left_on ='lsoa21cd',\n",
    "    right_on='lsoa11cd',\n",
    "    how='left'\n",
    ").drop(columns='lsoa11cd')"
   ]
  },
  {
   "cell_type": "code",
   "execution_count": null,
   "id": "c7ec3306-c589-45a4-a96d-137dc9ed0dea",
   "metadata": {
    "tags": []
   },
   "outputs": [],
   "source": [
    "# Step 3: Plot the data\n",
    "fig = plt.figure(figsize=(10,10))\n",
    "ax = fig.add_subplot(111) \n",
    "\n",
    "children_per_lsoa.plot(\n",
    "    ax=ax,                  \n",
    "    column='children_count',\n",
    "    scheme='FisherJenks',     \n",
    "    cmap='YlOrRd',\n",
    "    alpha=0.85,\n",
    "    legend=True,            \n",
    ")\n",
    "\n",
    "# Remove axis for better visualization\n",
    "ax.set_axis_off()\n",
    "\n",
    "# Add a title\n",
    "ax.set_title(\"Number of Children by LSOA\")\n",
    "\n",
    "# Show the plot\n",
    "plt.show()"
   ]
  },
  {
   "cell_type": "markdown",
   "id": "255caa4f-c7c3-4341-9d54-4234a22ddadc",
   "metadata": {},
   "source": [
    "### LAC Population Rate  by LSOA - Looking at rate helps us balance uneven population across LSOAs"
   ]
  },
  {
   "cell_type": "code",
   "execution_count": null,
   "id": "fa7c7912-c25a-4ec6-92a7-66331f58f784",
   "metadata": {
    "tags": []
   },
   "outputs": [],
   "source": [
    "# Merge with population data\n",
    "children_population = children_per_lsoa.merge(\n",
    "    population_data[['LSOA 2021 Code', 'TotalPop']],\n",
    "    left_on='lsoa21cd',\n",
    "    right_on='LSOA 2021 Code',\n",
    "    how='left'\n",
    ").drop(columns='LSOA 2021 Code')\n",
    "\n",
    "# Calculate children proportion\n",
    "children_population['children_per_total_pop'] = (\n",
    "    children_population['children_count'] /\n",
    "    children_population['TotalPop']) * 100\n",
    "# Create a figure\n",
    "fig, ax = plt.subplots(figsize=(8, 8))\n",
    "# Plot the LAC rate\n",
    "children_population.plot(\n",
    "    ax=ax,\n",
    "    column='children_per_total_pop',\n",
    "    scheme='NaturalBreaks',\n",
    "    cmap='YlOrRd',\n",
    "    legend=True\n",
    ")\n",
    "ax.set_axis_off()\n",
    "ax.set_title('Rate of LAC per LSOA Population')\n",
    "plt.tight_layout()\n",
    "plt.savefig(\"../figs/pop_rate_imd_decile.png\", dpi=300)\n",
    "plt.show()"
   ]
  },
  {
   "cell_type": "markdown",
   "id": "7b994a5d-7eb9-4416-a795-175a5b76cde8",
   "metadata": {},
   "source": [
    "### Global Spatial Autocorrelation for LAC Population Rate Using Moran I and Getis-Ord G\n",
    "* Moran's I asks: \"Are similar values near each other?\"\n",
    "* Getis-Ord G asks: \"Are high values clustering together, or are low values clustering together?\""
   ]
  },
  {
   "cell_type": "code",
   "execution_count": null,
   "id": "35ac40c5-d636-425a-823a-a993af619c1c",
   "metadata": {
    "tags": []
   },
   "outputs": [],
   "source": [
    "from libpysal.weights import KNN\n",
    "w_queen = Queen.from_dataframe(children_population)\n",
    "w_queen.transform = 'r' \n",
    "\n",
    "# Calculate Moran's I\n",
    "moran_queen = Moran(children_population['children_per_total_pop'], w_queen)\n",
    "print(\"Queen: \\n\")\n",
    "print(f\"Moran's I: {moran_queen.I}\")\n",
    "print(f\"p-value: {moran_queen.p_sim}\")\n",
    "print(f\"z-score: {moran_queen.z_sim}\")\n",
    "\n",
    "# KNN \n",
    "centroids = children_population.geometry.centroid\n",
    "coords = list(zip(centroids.x, centroids.y))\n",
    "w_knn = KNN(coords, k=6)\n",
    "w_knn.transform = 'r'\n",
    "\n",
    "moran_knn = Moran(children_population['children_per_total_pop'], w_knn)\n",
    "print(\"KNN: \\n\")\n",
    "print(f\"Moran's I: {moran_knn.I}\")\n",
    "print(f\"p-value: {moran_knn.p_sim}\")\n",
    "print(f\"z-score: {moran_knn.z_sim}\")"
   ]
  },
  {
   "cell_type": "code",
   "execution_count": null,
   "id": "41f93651-0a6a-4b35-abde-56ad223a4a95",
   "metadata": {
    "tags": []
   },
   "outputs": [],
   "source": [
    "# Calculate Getis-Ord G\n",
    "# Queen weights matrix\n",
    "print(\"Getis-Ord G, Queen Weights\")\n",
    "g = esda.getisord.G(children_population['children_per_total_pop'], w_queen)\n",
    "print(f\"Getis-Ord G: {g.G}\")\n",
    "print(f\"p-value: {g.p_sim}\")\n",
    "print(f\"z-score: {g.z_sim}\")\n",
    "\n",
    "# KNN\n",
    "print(\"\\nGetis-Ord G, KNN Weights\")\n",
    "g = esda.getisord.G(children_population['children_per_total_pop'], w_knn)\n",
    "print(f\"Getis-Ord G: {g.G}\")\n",
    "print(f\"p-value: {g.p_sim}\")\n",
    "print(f\"z-score: {g.z_sim}\")"
   ]
  },
  {
   "cell_type": "markdown",
   "id": "505585bf-2782-4fb0-97ca-d03bb74241ab",
   "metadata": {},
   "source": [
    "___________\n",
    "Low Moran I's score suggest spatial randomness. No spatial autocorrelation.<br>\n",
    "Getis-Ord G: The results shows there are hig value clusters (hot spots) with a confidence level of 96.6%"
   ]
  },
  {
   "cell_type": "markdown",
   "id": "c98bb46b-bd6f-4bb0-ad68-5ac0e00669f6",
   "metadata": {},
   "source": [
    "### Local Autocorrelation with Getis-Ord Gi* and Local Indicators of Spatial Association (LISA)"
   ]
  },
  {
   "cell_type": "code",
   "execution_count": null,
   "id": "1ddbf999-f38f-49c2-9cea-6c9f25ea8aa3",
   "metadata": {
    "tags": []
   },
   "outputs": [],
   "source": [
    "# Hostspot analysis Getis-Ord Gi*\n",
    "from esda.getisord import G_Local\n",
    "\n",
    "gi = G_Local(children_population['children_per_total_pop'], w_knn, star=True)\n",
    "children_population['gi_Zscore'] = gi.Zs\n",
    "children_population.plot(\n",
    "    column='gi_Zscore', cmap='YlOrRd',\n",
    "    legend=True,\n",
    "    figsize=(12,8)\n",
    ")\n",
    "plt.axis('off')\n",
    "plt.show()"
   ]
  },
  {
   "cell_type": "code",
   "execution_count": null,
   "id": "62b4a1e0-f111-43f1-856b-1616671540a1",
   "metadata": {
    "tags": []
   },
   "outputs": [],
   "source": [
    "from splot.esda import lisa_cluster\n",
    "# Local Moran I\n",
    "lisa = Moran_Local(children_population['children_per_total_pop'], w_knn)\n",
    "\n",
    "# Plot the local autocorrelation; adjust overall figure size as needed\n",
    "fig, ax = plt.subplots(1, 1, figsize=(10, 8))\n",
    "lisa_cluster(lisa, children_population, p=0.05, ax=ax)\n",
    "ax.set_title(\"Hot and Cold Spots for Rate of LAC per LSOA Population\")\n",
    "plt.savefig(\"../figs/lac_hot-cold spots.png\", dpi=300)\n",
    "plt.show()"
   ]
  },
  {
   "cell_type": "markdown",
   "id": "d5d78e5d-1e8c-4d80-a78b-bb0de5eb2244",
   "metadata": {
    "tags": []
   },
   "source": [
    "##### What percentage of LSOAs accounts for what percentage of Children in LAC?"
   ]
  },
  {
   "cell_type": "code",
   "execution_count": null,
   "id": "ecfd06d1-1868-41d1-b86a-85dc9070aa52",
   "metadata": {},
   "outputs": [],
   "source": [
    "# Number of children\n",
    "total_children = children_per_lsoa['children_count'].sum()\n",
    "\n",
    "# Sort by children_count (descending):\n",
    "children_per_lsoa_sorted = children_per_lsoa.sort_values(by='children_count', ascending=False)\n",
    "\n",
    "# Calculate the cumulative sum and proportion:\n",
    "children_per_lsoa_sorted['cumulative_children'] = children_per_lsoa_sorted['children_count'].cumsum()\n",
    "children_per_lsoa_sorted['cumulative_percent'] = (\n",
    "    100.0 * children_per_lsoa_sorted['cumulative_children'] / total_children\n",
    ")\n",
    "\n",
    "# Find the percentage of LSOAs that account for 50% of children\n",
    "lsoas_for_50_percent = len(children_per_lsoa_sorted[children_per_lsoa_sorted['cumulative_percent'] <= 50])\n",
    "percent_lsoas_for_50 = (lsoas_for_50_percent / len(children_per_lsoa_sorted)) * 100\n",
    "\n",
    "print(f\"{percent_lsoas_for_50:.1f}% of LSOAs account for 50% of Looked After children\")\n",
    "\n",
    "# Create an x-axis representing the percentage of LSOAs.\n",
    "# Each point's x-value is (index position / total LSOAs) * 100\n",
    "num_lsoas = len(children_per_lsoa_sorted)\n",
    "x_percent = [(i + 1) / num_lsoas * 100 for i in range(num_lsoas)]\n",
    "\n",
    "# Plot cumulative proportion vs. number of LSOAs:\n",
    "plt.figure(figsize=(10, 6))\n",
    "plt.plot(\n",
    "    x_percent,\n",
    "    children_per_lsoa_sorted['cumulative_percent'],\n",
    "    linestyle='--',\n",
    "    color=color\n",
    ")\n",
    "plt.title('Cumulative Proportion of Children by LSOA')\n",
    "plt.xlabel('Percentage of LSOAs (%)')\n",
    "plt.ylabel('Cumulative Proportion of Children (%)')\n",
    "plt.grid(True, linestyle='--', alpha=.4)\n",
    "plt.savefig(\"../figs/children_proportion_per_LSOAproportion.png\", dpi=300)\n",
    "plt.show()"
   ]
  },
  {
   "cell_type": "markdown",
   "id": "134ae069-777b-47af-9178-8ef0aaf6adb0",
   "metadata": {},
   "source": [
    "#### LAC Rate vs. IMD Decile by LSOA -  Is there a relationship btw rate of LAC and the IMD rank of the LSOA = are more LAC in deprived areas?"
   ]
  },
  {
   "cell_type": "code",
   "execution_count": null,
   "id": "9cdbe95a-1a8c-4a56-8427-de36dc0bfc85",
   "metadata": {
    "tags": []
   },
   "outputs": [],
   "source": [
    "sns.scatterplot(\n",
    "    data=children_population,\n",
    "    x='IMD_Decile',\n",
    "    y='children_per_total_pop',\n",
    ")\n",
    "\n",
    "# Add a trendline\n",
    "sns.regplot(\n",
    "    data=children_population,\n",
    "    x='IMD_Decile',\n",
    "    y='children_per_total_pop',\n",
    "    scatter=False,\n",
    "    color='red'\n",
    ")\n",
    "plt.title('LAC Rate vs. IMD Decile by LSOA')\n",
    "plt.savefig(\"../figs/LAC_Rate_vs.IMD_Decile.png\", dpi=300)\n",
    "plt.show()\n",
    "\n",
    "\n",
    "# Determine the relationship between IMD Decile and Proportion of LAC \n",
    "\n",
    "\n",
    "# Drop rows with NaN\n",
    "valid = (\n",
    "    children_population['IMD_Decile'].notna() &\n",
    "    children_population['children_per_total_pop'].notna()\n",
    ")\n",
    "clean_data = children_population[valid]\n",
    "\n",
    "# Pearson Correlation\n",
    "correlation, p_value = stats.pearsonr(clean_data['IMD_Decile'], clean_data['children_per_total_pop'])\n",
    "\n",
    "# Spearman Correlation\n",
    "spearman_corr, spearman_p = stats.spearmanr(clean_data['IMD_Decile'], clean_data['children_per_total_pop'])\n",
    "\n",
    "# Linear Regression\n",
    "slope, intercept, r_value, p_value_reg, std_err = stats.linregress(clean_data['IMD_Decile'], clean_data['children_per_total_pop'])\n",
    "\n",
    "# Print results\n",
    "print(f\"Pearson Correlation: {correlation:.3f} (p-value: {p_value:.3e})\")\n",
    "print(f\"Spearman Correlation: {spearman_corr:.3f} (p-value: {spearman_p:.3e})\")\n",
    "print(\"\\nLinear Regression Results:\")\n",
    "print(f\"Slope: {slope:.6f}\")\n",
    "print(f\"Intercept: {intercept:.3f}\")\n",
    "print(f\"R-squared: {r_value**2:.3f}\")\n",
    "print(f\"P-value: {p_value_reg:.3e}\")"
   ]
  },
  {
   "cell_type": "markdown",
   "id": "fa791d1d-e2e4-4575-acb9-48eacc4d2f65",
   "metadata": {},
   "source": [
    "The downward slope suggest that there's a negative correlation between the rate of LAC per population and the IMD rank.<br>\n",
    "It appears to be a relationship between deprivation and rate of LAC, where more deprived areas tend to have more number of LAC & higher rates of LAC<br>\n",
    "Small p-values indicates evidence of association between the variables - not by chance. <br>\n",
    "Weak correlation coeeficients means that IMD rank is not a strong predictor of the proportion of children.<br>\n",
    "Negative slope - Less deprived areas have less proportion of LAC<br>\n",
    "R-squared value implies that only 6% of the variation in LAC rate is explained by the IMD Decile. Hence, other factors plays important roles in explainging the LAC rate per population."
   ]
  },
  {
   "cell_type": "code",
   "execution_count": null,
   "id": "323059d9-09be-40e7-b0cf-84cb8f561438",
   "metadata": {
    "tags": []
   },
   "outputs": [],
   "source": [
    "most_deprived = children_population.loc[children_population['IMD_Decile'] == 1]\n",
    "less_deprived = children_population.loc[children_population['IMD_Decile'] == 10]\n",
    "\n",
    "children_in_deprived_areas = len(most_deprived)\n",
    "children_in_less_deprived_areas = len(less_deprived)\n",
    "\n",
    "print(f\"Children in the most deprived area: {children_in_deprived_areas}\")\n",
    "print(f\"Children in the less deprived area: {children_in_less_deprived_areas}\\n\")\n",
    "\n",
    "children_in_deprived_areas = len(most_deprived)\n",
    "children_in_less_deprived_areas = len(less_deprived)\n",
    "\n",
    "if children_in_less_deprived_areas > 0:\n",
    "    # Calculate the ratio: how many children in the most deprived area per one child in the less deprived area.\n",
    "    ratio = children_in_deprived_areas / children_in_less_deprived_areas\n",
    "    # Calculate what percentage the less deprived count is of the most deprived count.\n",
    "    percentage = (children_in_less_deprived_areas / children_in_deprived_areas) * 100\n",
    "\n",
    "    print(f\"For every 1 child in the less deprived area, there are approximately {ratio:.1f} children in the most deprived area.\")\n",
    "    print(f\"In percentage terms, children in the less deprived area represent about {percentage:.1f}% of those in the most deprived area.\")\n",
    "else:\n",
    "    print(\"There are no children in the less deprived area to compare.\")"
   ]
  },
  {
   "cell_type": "markdown",
   "id": "d7116e0f-4007-41d3-b2a4-5c111497f149",
   "metadata": {},
   "source": [
    "### LAC Rate and IDCScore -  child-specific deprivation measure"
   ]
  },
  {
   "cell_type": "code",
   "execution_count": null,
   "id": "e44d5dda-fa37-4497-aecd-8f559f0cb602",
   "metadata": {
    "tags": []
   },
   "outputs": [],
   "source": [
    "sns.scatterplot(\n",
    "    data=clean_data,\n",
    "    x='IDCDec',\n",
    "    y='children_per_total_pop'\n",
    ")\n",
    "\n",
    "# Add a trendline\n",
    "sns.regplot(\n",
    "    data=clean_data,\n",
    "    x='IDCDec',\n",
    "    y='children_per_total_pop',\n",
    "    scatter=False,\n",
    "    color='red'\n",
    ")\n",
    "plt.title('LAC Rate vs. IDC Decile by LSOA')\n",
    "plt.show()\n",
    "\n",
    "# Determine the relationship between IDCDec and Proportion of LAC \n",
    "\n",
    "# Drop rows with NaN\n",
    "valid = (\n",
    "    children_population['IDCDec'].notna() &\n",
    "    children_population['children_per_total_pop'].notna()\n",
    ")\n",
    "clean_data = children_population[valid]\n",
    "\n",
    "# Pearson Correlation\n",
    "correlation, p_value = stats.pearsonr(clean_data['IDCDec'], clean_data['children_per_total_pop'])\n",
    "\n",
    "# Spearman Correlation\n",
    "spearman_corr, spearman_p = stats.spearmanr(clean_data['IDCDec'], clean_data['children_per_total_pop'])\n",
    "\n",
    "# Linear Regression\n",
    "slope, intercept, r_value, p_value_reg, std_err = stats.linregress(clean_data['IDCDec'], clean_data['children_per_total_pop'])\n",
    "\n",
    "# Print results\n",
    "print(f\"Pearson Correlation: {correlation:.3f} (p-value: {p_value:.3e})\")\n",
    "print(f\"Spearman Correlation: {spearman_corr:.3f} (p-value: {spearman_p:.3e})\")\n",
    "print(\"\\nLinear Regression Results:\")\n",
    "print(f\"Slope: {slope:.6f}\")\n",
    "print(f\"Intercept: {intercept:.3f}\")\n",
    "print(f\"R-squared: {r_value**2:.3f}\")\n",
    "print(f\"P-value: {p_value_reg:.3e}\")"
   ]
  },
  {
   "cell_type": "code",
   "execution_count": null,
   "id": "8ba1ce65-d5f9-43c8-810e-68224632d5e5",
   "metadata": {},
   "outputs": [],
   "source": [
    "# Correlation Matric for IMD variables and lac rate per lsoa population\n",
    "corr_matrix = clean_data[[\n",
    "    'children_per_total_pop', 'IMD_Decile',\n",
    "    'IDCDec', 'CYPDec', 'IncDec', 'EmpDec', 'DepChi',\n",
    "    'EduDec', 'CriDec', 'BHSDec', 'EnvDec', 'HDDDec'\n",
    "]].corr()\n",
    "\n",
    "plt.figure(figsize=(10,8))\n",
    "sns.heatmap(corr_matrix, annot=True, cmap='coolwarm')\n",
    "plt.title('Correlation between LAC Rate and IMD Domains')\n",
    "plt.show()"
   ]
  },
  {
   "cell_type": "markdown",
   "id": "9ba5b59d-cfd6-4062-bc0f-ff8615e649fd",
   "metadata": {},
   "source": [
    "### Correlation between LAC Population Rate and IMDs"
   ]
  },
  {
   "cell_type": "code",
   "execution_count": null,
   "id": "84796719-f7fe-412d-b4bd-a1d6e0e29eee",
   "metadata": {
    "tags": []
   },
   "outputs": [],
   "source": [
    "import statsmodels.formula.api as smf\n",
    "\n",
    "# 1. Define the formula for ordinary least squares (OLS) regression:\n",
    "formula = \"children_per_total_pop ~ DepChi + IncDec + EmpDec + EduDec + EnvDec + IDCDec + CriDec + HDDDec + CYPDec + BHSDec\"\n",
    "\n",
    "# 2. Fit the model\n",
    "model = smf.ols(formula, data=children_population).fit()\n",
    "\n",
    "# 3. Print a summary of the regression results\n",
    "print(model.summary())"
   ]
  },
  {
   "cell_type": "markdown",
   "id": "ff7983a9-8ca2-40f3-83ea-92eac841a285",
   "metadata": {},
   "source": [
    "### Comparing Characteristics of children with intervention rates."
   ]
  },
  {
   "cell_type": "markdown",
   "id": "cef8e921-d27c-48c6-a03a-13180d3e6177",
   "metadata": {},
   "source": [
    "### Individual-Level"
   ]
  },
  {
   "cell_type": "code",
   "execution_count": null,
   "id": "ee697558-6379-4fd6-9365-1b52b9c4f21f",
   "metadata": {
    "tags": []
   },
   "outputs": [],
   "source": [
    "# Create a figure with two subplots side by side to compare 90th and 80th percentile\n",
    "fig, (ax1, ax2) = plt.subplots(1, 2, figsize=(20, 8))\n",
    "\n",
    "# Define bin edges for ages 0-17\n",
    "bins = np.arange(0, 19) - 0.5  # Creates bin edges: [-0.5, 0.5, 1.5, ..., 18.5]\n",
    "x = np.arange(18)\n",
    "width = 1.0  # Full width to ensure bars touch\n",
    "\n",
    "# First subplot - 90th percentile (your original code)\n",
    "percentile_threshold_90 = 90\n",
    "cutoff_value_90 = np.percentile(children_population['children_per_total_pop'], percentile_threshold_90)\n",
    "\n",
    "# Select LSOAs above the 90th percentile threshold\n",
    "high_intervention_lsoas_90 = children_population[children_population['children_per_total_pop'] >= cutoff_value_90]['lsoa21cd'].tolist()\n",
    "\n",
    "# Split the data into high rate and other groups for 90th percentile\n",
    "high_group_90 = merged_data[merged_data['lsoa21cd'].isin(high_intervention_lsoas_90)]\n",
    "other_group_90 = merged_data[~merged_data['lsoa21cd'].isin(high_intervention_lsoas_90)]\n",
    "\n",
    "# Calculate histograms using counts for 90th percentile\n",
    "high_counts_90, _ = np.histogram(high_group_90['age_at_entry'], bins=bins)\n",
    "other_counts_90, _ = np.histogram(other_group_90['age_at_entry'], bins=bins)\n",
    "\n",
    "# Convert counts to percentages for 90th percentile\n",
    "high_pct_90 = high_counts_90 / high_counts_90.sum() * 100\n",
    "other_pct_90 = other_counts_90 / other_counts_90.sum() * 100\n",
    "\n",
    "# Plot the 90th percentile histogram\n",
    "ax1.bar(x, high_pct_90, width=width, align='center', color='red', alpha=0.7,\n",
    "       edgecolor='black', linewidth=1.0,\n",
    "       label='>= 90th Percentile')\n",
    "ax1.bar(x, -other_pct_90, width=width, align='center', color='blue', alpha=0.7,\n",
    "       edgecolor='black', linewidth=1.0,\n",
    "       label='< 90th Percentile')\n",
    "\n",
    "# -------------------------------------------------------------------------------------------------\n",
    "# Second subplot - 80th percentile\n",
    "percentile_threshold_80 = 80\n",
    "cutoff_value_80 = np.percentile(children_population['children_per_total_pop'], percentile_threshold_80)\n",
    "\n",
    "# Select LSOAs above the 80th percentile threshold\n",
    "high_intervention_lsoas_80 = children_population[children_population['children_per_total_pop'] >= cutoff_value_80]['lsoa21cd'].tolist()\n",
    "\n",
    "# Split the data into high rate and other groups for 80th percentile\n",
    "high_group_80 = merged_data[merged_data['lsoa21cd'].isin(high_intervention_lsoas_80)]\n",
    "other_group_80 = merged_data[~merged_data['lsoa21cd'].isin(high_intervention_lsoas_80)]\n",
    "\n",
    "# Calculate histograms using counts for 80th percentile\n",
    "high_counts_80, _ = np.histogram(high_group_80['age_at_entry'], bins=bins)\n",
    "other_counts_80, _ = np.histogram(other_group_80['age_at_entry'], bins=bins)\n",
    "\n",
    "# Convert counts to percentages for 80th percentile\n",
    "high_pct_80 = high_counts_80 / high_counts_80.sum() * 100\n",
    "other_pct_80 = other_counts_80 / other_counts_80.sum() * 100\n",
    "\n",
    "# Plot the 80th percentile histogram\n",
    "ax2.bar(x, high_pct_80, width=width, align='center', color='red', alpha=0.7,\n",
    "       edgecolor='black', linewidth=1.0,\n",
    "       label='>= 80th Percentile')\n",
    "ax2.bar(x, -other_pct_80, width=width, align='center', color='blue', alpha=0.7,\n",
    "       edgecolor='black', linewidth=1.0,\n",
    "       label='< 80th Percentile')\n",
    "\n",
    "# Format the first subplot (90th percentile)\n",
    "ax1.set_ylabel('Percentage of Children (%)')\n",
    "ax1.set_xlabel('Age')\n",
    "ax1.set_title('Age Distribution - 90th Percentile Threshold', fontsize=14, pad=20)\n",
    "ax1.set_xlim(-0.5, 17.5)\n",
    "ax1.set_xticks(x)\n",
    "ax1.axhline(y=0, color='black', linestyle='-', alpha=0.5)\n",
    "ax1.legend(loc='upper right')\n",
    "\n",
    "# Format the second subplot (80th percentile)\n",
    "ax2.set_ylabel('Percentage of Children (%)')\n",
    "ax2.set_xlabel('Age')\n",
    "ax2.set_title('Age Distribution - 80th Percentile Threshold', fontsize=14, pad=20)\n",
    "ax2.set_xlim(-0.5, 17.5)\n",
    "ax2.set_xticks(x)\n",
    "ax2.axhline(y=0, color='black', linestyle='-', alpha=0.5)\n",
    "ax2.legend(loc='upper right')\n",
    "\n",
    "# Add an overall title\n",
    "fig.suptitle('Comparison of Age Distributions Using Different Percentile Thresholds', fontsize=16, y=1.05)\n",
    "\n",
    "# Adjust layout\n",
    "plt.tight_layout()\n",
    "plt.show()\n",
    "\n",
    "# Print some statistics for comparison\n",
    "print(f\"90th percentile cutoff value: {cutoff_value_90:.4f}\")\n",
    "print(f\"Number of LSOAs above 90th percentile: {len(high_intervention_lsoas_90)}\")\n",
    "print(f\"Number of children in high group (90th): {len(high_group_90)}\")\n",
    "print(f\"Number of children in other group (90th): {len(other_group_90)}\")\n",
    "print(\"\\n\")\n",
    "print(f\"80th percentile cutoff value: {cutoff_value_80:.4f}\")\n",
    "print(f\"Number of LSOAs above 80th percentile: {len(high_intervention_lsoas_80)}\")\n",
    "print(f\"Number of children in high group (80th): {len(high_group_80)}\")\n",
    "print(f\"Number of children in other group (80th): {len(other_group_80)}\")"
   ]
  },
  {
   "cell_type": "code",
   "execution_count": null,
   "id": "0260f4e7-e2e4-4ed1-ba1d-f5c1932c6960",
   "metadata": {
    "tags": []
   },
   "outputs": [],
   "source": [
    "# Create a figure with two subplots side by side to compare 90th and 80th percentile\n",
    "fig, (ax1, ax2) = plt.subplots(1, 2, figsize=(20, 10))\n",
    "\n",
    "# Define the percentile thresholds\n",
    "percentile_threshold_90 = 90\n",
    "percentile_threshold_80 = 80\n",
    "\n",
    "# Calculate cutoff values\n",
    "cutoff_value_90 = np.percentile(children_population['children_per_total_pop'], percentile_threshold_90)\n",
    "cutoff_value_80 = np.percentile(children_population['children_per_total_pop'], percentile_threshold_80)\n",
    "\n",
    "# Select LSOAs above the percentile thresholds\n",
    "high_intervention_lsoas_90 = children_population[children_population['children_per_total_pop'] >= cutoff_value_90]['lsoa21cd'].tolist()\n",
    "high_intervention_lsoas_80 = children_population[children_population['children_per_total_pop'] >= cutoff_value_80]['lsoa21cd'].tolist()\n",
    "\n",
    "# Split the data into high rate and other groups for both percentiles\n",
    "high_group_90 = merged_data[merged_data['lsoa21cd'].isin(high_intervention_lsoas_90)]\n",
    "other_group_90 = merged_data[~merged_data['lsoa21cd'].isin(high_intervention_lsoas_90)]\n",
    "\n",
    "high_group_80 = merged_data[merged_data['lsoa21cd'].isin(high_intervention_lsoas_80)]\n",
    "other_group_80 = merged_data[~merged_data['lsoa21cd'].isin(high_intervention_lsoas_80)]\n",
    "\n",
    "# Process for 90th percentile (left subplot)\n",
    "# Get the counts for each ethnic origin category\n",
    "high_ethnicity_counts_90 = high_group_90['EthnicOrigin'].value_counts()\n",
    "other_ethnicity_counts_90 = other_group_90['EthnicOrigin'].value_counts()\n",
    "\n",
    "# Convert to percentages\n",
    "high_ethnicity_pct_90 = high_ethnicity_counts_90 / high_ethnicity_counts_90.sum() * 100\n",
    "other_ethnicity_pct_90 = other_ethnicity_counts_90 / other_ethnicity_counts_90.sum() * 100\n",
    "\n",
    "# Combine the categories to ensure both groups have the same categories\n",
    "all_categories_90 = sorted(set(high_ethnicity_pct_90.index) | set(other_ethnicity_pct_90.index))\n",
    "\n",
    "# Reindex to include all categories, filling missing values with 0\n",
    "high_ethnicity_pct_90 = high_ethnicity_pct_90.reindex(all_categories_90, fill_value=0)\n",
    "other_ethnicity_pct_90 = other_ethnicity_pct_90.reindex(all_categories_90, fill_value=0)\n",
    "\n",
    "# Sort categories by total percentage (high + other) in descending order\n",
    "total_pct_90 = high_ethnicity_pct_90 + other_ethnicity_pct_90\n",
    "sorted_categories_90 = total_pct_90.sort_values(ascending=True).index  # Ascending for bottom-to-top\n",
    "\n",
    "# Reindex according to sorted order\n",
    "high_ethnicity_pct_90 = high_ethnicity_pct_90.reindex(sorted_categories_90)\n",
    "other_ethnicity_pct_90 = other_ethnicity_pct_90.reindex(sorted_categories_90)\n",
    "\n",
    "# Process for 80th percentile (right subplot)\n",
    "# Get the counts for each ethnic origin category\n",
    "high_ethnicity_counts_80 = high_group_80['EthnicOrigin'].value_counts()\n",
    "other_ethnicity_counts_80 = other_group_80['EthnicOrigin'].value_counts()\n",
    "\n",
    "# Convert to percentages\n",
    "high_ethnicity_pct_80 = high_ethnicity_counts_80 / high_ethnicity_counts_80.sum() * 100\n",
    "other_ethnicity_pct_80 = other_ethnicity_counts_80 / other_ethnicity_counts_80.sum() * 100\n",
    "\n",
    "# Combine the categories to ensure both groups have the same categories\n",
    "all_categories_80 = sorted(set(high_ethnicity_pct_80.index) | set(other_ethnicity_pct_80.index))\n",
    "\n",
    "# Reindex to include all categories, filling missing values with 0\n",
    "high_ethnicity_pct_80 = high_ethnicity_pct_80.reindex(all_categories_80, fill_value=0)\n",
    "other_ethnicity_pct_80 = other_ethnicity_pct_80.reindex(all_categories_80, fill_value=0)\n",
    "\n",
    "# Sort categories by total percentage (high + other) in descending order\n",
    "total_pct_80 = high_ethnicity_pct_80 + other_ethnicity_pct_80\n",
    "sorted_categories_80 = total_pct_80.sort_values(ascending=True).index  # Ascending for bottom-to-top\n",
    "\n",
    "# Reindex according to sorted order\n",
    "high_ethnicity_pct_80 = high_ethnicity_pct_80.reindex(sorted_categories_80)\n",
    "other_ethnicity_pct_80 = other_ethnicity_pct_80.reindex(sorted_categories_80)\n",
    "\n",
    "# Create horizontal bars for 90th percentile (left subplot)\n",
    "y_pos_90 = np.arange(len(sorted_categories_90))\n",
    "width = 0.8  # Bar width\n",
    "\n",
    "ax1.barh(y_pos_90, high_ethnicity_pct_90, height=width, color='red', alpha=0.7,\n",
    "         edgecolor='black', linewidth=1.0, label='>= 90th Percentile')\n",
    "ax1.barh(y_pos_90, -other_ethnicity_pct_90, height=width, color='blue', alpha=0.7,\n",
    "         edgecolor='black', linewidth=1.0, label='< 90th Percentile')\n",
    "\n",
    "# Create horizontal bars for 80th percentile (right subplot)\n",
    "y_pos_80 = np.arange(len(sorted_categories_80))\n",
    "\n",
    "ax2.barh(y_pos_80, high_ethnicity_pct_80, height=width, color='red', alpha=0.7,\n",
    "         edgecolor='black', linewidth=1.0, label='>= 80th Percentile')\n",
    "ax2.barh(y_pos_80, -other_ethnicity_pct_80, height=width, color='blue', alpha=0.7,\n",
    "         edgecolor='black', linewidth=1.0, label='< 80th Percentile')\n",
    "\n",
    "# Format the first subplot (90th percentile)\n",
    "ax1.set_xlabel('Percentage of Children (%)')\n",
    "ax1.set_ylabel('Ethnic Origin')\n",
    "ax1.set_title('Ethnic Origin Distribution - 90th Percentile Threshold', fontsize=14, pad=20)\n",
    "ax1.set_yticks(y_pos_90)\n",
    "ax1.set_yticklabels(sorted_categories_90)\n",
    "ax1.axvline(x=0, color='black', linestyle='-', alpha=0.5)\n",
    "ax1.grid(axis='x', linestyle='--', alpha=0.3)\n",
    "ax1.legend(loc='upper right')\n",
    "\n",
    "# Format the second subplot (80th percentile)\n",
    "ax2.set_xlabel('Percentage of Children (%)')\n",
    "ax2.set_ylabel('Ethnic Origin')\n",
    "ax2.set_title('Ethnic Origin Distribution - 80th Percentile Threshold', fontsize=14, pad=20)\n",
    "ax2.set_yticks(y_pos_80)\n",
    "ax2.set_yticklabels(sorted_categories_80)\n",
    "ax2.axvline(x=0, color='black', linestyle='-', alpha=0.5)\n",
    "ax2.grid(axis='x', linestyle='--', alpha=0.3)\n",
    "ax2.legend(loc='upper right')\n",
    "\n",
    "# Add an overall title\n",
    "fig.suptitle('Comparison of Ethnic Origin Distributions Using Different Percentile Thresholds', fontsize=16, y=1.02)\n",
    "\n",
    "# Adjust layout\n",
    "plt.tight_layout()\n",
    "plt.subplots_adjust(top=0.9)\n",
    "plt.show()\n",
    "\n",
    "# Print some statistics for comparison\n",
    "print(f\"90th percentile cutoff value: {cutoff_value_90:.4f}\")\n",
    "print(f\"Number of LSOAs above 90th percentile: {len(high_intervention_lsoas_90)}\")\n",
    "print(f\"Number of children in high group (90th): {len(high_group_90)}\")\n",
    "print(f\"Number of children in other group (90th): {len(other_group_90)}\")\n",
    "print(\"\\n\")\n",
    "print(f\"80th percentile cutoff value: {cutoff_value_80:.4f}\")\n",
    "print(f\"Number of LSOAs above 80th percentile: {len(high_intervention_lsoas_80)}\")\n",
    "print(f\"Number of children in high group (80th): {len(high_group_80)}\")\n",
    "print(f\"Number of children in other group (80th): {len(other_group_80)}\")"
   ]
  },
  {
   "cell_type": "markdown",
   "id": "97c691ec-b856-42d7-93bb-9c5861e2c8df",
   "metadata": {},
   "source": [
    "### Area Level"
   ]
  },
  {
   "cell_type": "code",
   "execution_count": null,
   "id": "bf337ed1-1c3a-46fa-83a1-67b2887b3c96",
   "metadata": {
    "tags": []
   },
   "outputs": [],
   "source": [
    "# First, calculate the intervention rate threshold for the 90th percentile\n",
    "percentile_threshold = 90\n",
    "cutoff_value = np.percentile(children_population['children_per_total_pop'], percentile_threshold)\n",
    "\n",
    "# Identify high-intervention LSOAs (top 10%)\n",
    "children_population['high_intervention'] = children_population['children_per_total_pop'] >= cutoff_value\n",
    "\n",
    "# Split into high and other groups\n",
    "high_lsoa_group = children_population[children_population['high_intervention']]\n",
    "other_lsoa_group = children_population[~children_population['high_intervention']]\n",
    "\n",
    "# List of IMD domains to analyze (using the deciles)\n",
    "imd_domains = ['IMD_Decile', 'IDCDec', 'CYPDec', 'IncDec', 'EmpDec',\n",
    "               'EduDec', 'CriDec', 'BHSDec', 'EnvDec', 'HDDDec']\n",
    "\n",
    "# Create a dictionary to map domain codes to more readable names\n",
    "domain_names = {\n",
    "    'IMD_Decile': 'Overall IMD',\n",
    "    'IDCDec': 'Income Deprivation Affecting Children',\n",
    "    'CYPDec': 'Children & Young People',\n",
    "    'IncDec': 'Income',\n",
    "    'EmpDec': 'Employment',\n",
    "    'EduDec': 'Education',\n",
    "    'CriDec': 'Crime',\n",
    "    'BHSDec': 'Barriers to Housing & Services',\n",
    "    'EnvDec': 'Living Environment',\n",
    "    'HDDDec': 'Health Deprivation & Disability'\n",
    "}\n",
    "\n",
    "# Create a figure with multiple subplots - one for each domain\n",
    "fig, axes = plt.subplots(2, 5, figsize=(20, 12))  # 2 rows, 5 columns\n",
    "axes = axes.flatten()  # Flatten to make indexing easier\n",
    "fig.suptitle('IMD Domain Deciles: High Intervention vs. Other LSOAs (90th Percentile)',\n",
    "             fontsize=16, y=0.95)\n",
    "\n",
    "# For each domain, create a vertical mirrored histogram\n",
    "for i, domain in enumerate(imd_domains):\n",
    "    ax = axes[i]\n",
    "\n",
    "    # Calculate the distribution of deciles for high and other LSOAs\n",
    "    high_counts = high_lsoa_group[domain].value_counts().sort_index()\n",
    "    other_counts = other_lsoa_group[domain].value_counts().sort_index()\n",
    "\n",
    "    # Convert to percentages\n",
    "    high_pct = high_counts / high_counts.sum() * 100\n",
    "    other_pct = other_counts / other_counts.sum() * 100\n",
    "\n",
    "    # Ensure all deciles (1-10) are represented\n",
    "    all_deciles = range(1, 11)\n",
    "    high_pct = high_pct.reindex(all_deciles, fill_value=0)\n",
    "    other_pct = other_pct.reindex(all_deciles, fill_value=0)\n",
    "\n",
    "    # Create vertical bars with width=1.0 to ensure they touch\n",
    "    x_pos = np.arange(0.5, 10.5)  # Position bars at 0.5, 1.5, ..., 9.5\n",
    "    width = 1.0  # Full width to ensure bars touch\n",
    "\n",
    "    # Plot vertical bars\n",
    "    ax.bar(x_pos, high_pct, width=width, color='red', alpha=0.7,\n",
    "           edgecolor='black', linewidth=1.0, label='>= 90th Percentile', align='center')\n",
    "    ax.bar(x_pos, -other_pct, width=width, color='blue', alpha=0.7,\n",
    "           edgecolor='black', linewidth=1.0, label='< 90th Percentile', align='center')\n",
    "\n",
    "    # Add labels and formatting\n",
    "    ax.set_ylabel('Percentage of LSOAs (%)')\n",
    "    ax.set_xlabel('Decile (1=most deprived)')\n",
    "    ax.set_title(f'{domain_names[domain]}', fontsize=12, pad=10)\n",
    "\n",
    "    # Set x-ticks at the center of each bar\n",
    "    ax.set_xticks(x_pos)\n",
    "    ax.set_xticklabels(range(1, 11))\n",
    "\n",
    "    # Set x-limits to ensure bars are fully visible\n",
    "    ax.set_xlim(0, 10)\n",
    "\n",
    "    ax.axhline(y=0, color='black', linestyle='-', alpha=0.5)\n",
    "\n",
    "    # Add grid lines\n",
    "    ax.grid(axis='y', linestyle='--', alpha=0.3)\n",
    "\n",
    "    # Set y-axis limits to be symmetric\n",
    "    y_max = max(high_pct.max(), other_pct.max()) * 1.1\n",
    "    ax.set_ylim(-y_max, y_max)\n",
    "\n",
    "    # Add legend only to the first subplot\n",
    "    if i == 0:\n",
    "        ax.legend(loc='upper right')\n",
    "\n",
    "# Add note about deciles\n",
    "fig.text(0.5, 0.02,\n",
    "         'Note: Decile 1 represents the most deprived 10% of LSOAs, Decile 10 represents the least deprived 10%.',\n",
    "         ha='center', fontsize=10, bbox=dict(facecolor='white', alpha=0.8))\n",
    "\n",
    "# Adjust layout\n",
    "plt.tight_layout()\n",
    "plt.subplots_adjust(top=0.9, bottom=0.1)\n",
    "plt.show()"
   ]
  },
  {
   "cell_type": "code",
   "execution_count": null,
   "id": "571b680f-047a-4584-ae4e-06d7a71288f2",
   "metadata": {
    "tags": []
   },
   "outputs": [],
   "source": [
    "# First, calculate the intervention rate threshold for the 90th percentile\n",
    "percentile_threshold = 80\n",
    "cutoff_value = np.percentile(children_population['children_per_total_pop'], percentile_threshold)\n",
    "\n",
    "# Identify high-intervention LSOAs (top 10%)\n",
    "children_population['high_intervention'] = children_population['children_per_total_pop'] >= cutoff_value\n",
    "\n",
    "# Split into high and other groups\n",
    "high_lsoa_group = children_population[children_population['high_intervention']]\n",
    "other_lsoa_group = children_population[~children_population['high_intervention']]\n",
    "\n",
    "# List of IMD domains to analyze (using the deciles)\n",
    "imd_domains = ['IMD_Decile', 'IDCDec', 'CYPDec', 'IncDec', 'EmpDec',\n",
    "               'EduDec', 'CriDec', 'BHSDec', 'EnvDec', 'HDDDec']\n",
    "\n",
    "# Create a dictionary to map domain codes to more readable names\n",
    "domain_names = {\n",
    "    'IMD_Decile': 'Overall IMD',\n",
    "    'IDCDec': 'Income Deprivation Affecting Children',\n",
    "    'CYPDec': 'Children & Young People',\n",
    "    'IncDec': 'Income',\n",
    "    'EmpDec': 'Employment',\n",
    "    'EduDec': 'Education',\n",
    "    'CriDec': 'Crime',\n",
    "    'BHSDec': 'Barriers to Housing & Services',\n",
    "    'EnvDec': 'Living Environment',\n",
    "    'HDDDec': 'Health Deprivation & Disability'\n",
    "}\n",
    "\n",
    "# Create a figure with multiple subplots - one for each domain\n",
    "fig, axes = plt.subplots(2, 5, figsize=(20, 12))  # 2 rows, 5 columns\n",
    "axes = axes.flatten()  # Flatten to make indexing easier\n",
    "fig.suptitle('IMD Domain Deciles: High Intervention vs. Other LSOAs (80th Percentile)',\n",
    "             fontsize=16, y=0.95)\n",
    "\n",
    "# For each domain, create a vertical mirrored histogram\n",
    "for i, domain in enumerate(imd_domains):\n",
    "    ax = axes[i]\n",
    "\n",
    "    # Calculate the distribution of deciles for high and other LSOAs\n",
    "    high_counts = high_lsoa_group[domain].value_counts().sort_index()\n",
    "    other_counts = other_lsoa_group[domain].value_counts().sort_index()\n",
    "\n",
    "    # Convert to percentages\n",
    "    high_pct = high_counts / high_counts.sum() * 100\n",
    "    other_pct = other_counts / other_counts.sum() * 100\n",
    "\n",
    "    # Ensure all deciles (1-10) are represented\n",
    "    all_deciles = range(1, 11)\n",
    "    high_pct = high_pct.reindex(all_deciles, fill_value=0)\n",
    "    other_pct = other_pct.reindex(all_deciles, fill_value=0)\n",
    "\n",
    "    # Create vertical bars with width=1.0 to ensure they touch\n",
    "    x_pos = np.arange(0.5, 10.5)  # Position bars at 0.5, 1.5, ..., 9.5\n",
    "    width = 1.0  # Full width to ensure bars touch\n",
    "\n",
    "    # Plot vertical bars\n",
    "    ax.bar(x_pos, high_pct, width=width, color='red', alpha=0.7,\n",
    "           edgecolor='black', linewidth=1.0, label='>= 90th Percentile', align='center')\n",
    "    ax.bar(x_pos, -other_pct, width=width, color='blue', alpha=0.7,\n",
    "           edgecolor='black', linewidth=1.0, label='< 90th Percentile', align='center')\n",
    "\n",
    "    # Add labels and formatting\n",
    "    ax.set_ylabel('Percentage of LSOAs (%)')\n",
    "    ax.set_xlabel('Decile (1=most deprived)')\n",
    "    ax.set_title(f'{domain_names[domain]}', fontsize=12, pad=10)\n",
    "\n",
    "    # Set x-ticks at the center of each bar\n",
    "    ax.set_xticks(x_pos)\n",
    "    ax.set_xticklabels(range(1, 11))\n",
    "\n",
    "    # Set x-limits to ensure bars are fully visible\n",
    "    ax.set_xlim(0, 10)\n",
    "\n",
    "    ax.axhline(y=0, color='black', linestyle='-', alpha=0.5)\n",
    "\n",
    "    # Add grid lines\n",
    "    ax.grid(axis='y', linestyle='--', alpha=0.3)\n",
    "\n",
    "    # Set y-axis limits to be symmetric\n",
    "    y_max = max(high_pct.max(), other_pct.max()) * 1.1\n",
    "    ax.set_ylim(-y_max, y_max)\n",
    "\n",
    "    # Add legend only to the first subplot\n",
    "    if i == 0:\n",
    "        ax.legend(loc='upper right')\n",
    "\n",
    "# Add note about deciles\n",
    "fig.text(0.5, 0.02,\n",
    "         'Note: Decile 1 represents the most deprived 10% of LSOAs, Decile 10 represents the least deprived 10%.',\n",
    "         ha='center', fontsize=10, bbox=dict(facecolor='white', alpha=0.8))\n",
    "\n",
    "# Adjust layout\n",
    "plt.tight_layout()\n",
    "plt.subplots_adjust(top=0.9, bottom=0.1)\n",
    "plt.show()"
   ]
  }
 ],
 "metadata": {
  "environment": {
   "kernel": "python3",
   "name": "r-cpu.m125",
   "type": "gcloud",
   "uri": "us-docker.pkg.dev/deeplearning-platform-release/gcr.io/r-cpu:m125"
  },
  "kernelspec": {
   "display_name": "Python 3 (Local)",
   "language": "python",
   "name": "python3"
  },
  "language_info": {
   "codemirror_mode": {
    "name": "ipython",
    "version": 3
   },
   "file_extension": ".py",
   "mimetype": "text/x-python",
   "name": "python",
   "nbconvert_exporter": "python",
   "pygments_lexer": "ipython3",
   "version": "3.10.15"
  }
 },
 "nbformat": 4,
 "nbformat_minor": 5
}
