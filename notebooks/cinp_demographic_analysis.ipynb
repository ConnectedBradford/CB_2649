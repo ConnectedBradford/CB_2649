{
 "cells": [
  {
   "cell_type": "markdown",
   "id": "f99805c8-2086-4afc-aab5-5a671d326cb2",
   "metadata": {},
   "source": [
    "# Child in Need Plan (CiNP) - Demographic Analysis"
   ]
  },
  {
   "cell_type": "code",
   "execution_count": null,
   "id": "808ba34a-7c15-4f24-b9b0-a3be304ad122",
   "metadata": {
    "tags": []
   },
   "outputs": [],
   "source": [
    "#import bigquery\n",
    "from google.cloud import bigquery\n",
    "from google.cloud import bigquery_storage\n",
    " \n",
    "#other needed libraries\n",
    "import os\n",
    "import pandas as pd\n",
    "import numpy as np\n",
    "import pandas_gbq\n",
    "import seaborn as sns\n",
    "import matplotlib.pyplot as plt\n",
    "\n",
    "\n",
    "import warnings\n",
    "warnings.filterwarnings('ignore')\n",
    "plt.style.use('tableau-colorblind10')\n",
    "color='#702A7D'\n",
    "grey_color = '#A9A9A9'\n",
    "\n",
    "\n",
    "os.environ[\"GOOGLE_APPLICATION_CREDENTIALS\"] = \"/home/jupyter/.config/gcloud/application_default_credentials.json\"\n",
    "\n",
    "#Instatiate BigQuery Client\n",
    "client = bigquery.Client()"
   ]
  },
  {
   "cell_type": "code",
   "execution_count": null,
   "id": "9b83697c-bad8-40d8-a811-29037292e4c7",
   "metadata": {
    "tags": []
   },
   "outputs": [],
   "source": [
    "cinp_query = \"\"\"\n",
    "SELECT\n",
    "  a.person_id, a.YearOfBirth\n",
    "  ,a.PCArea, a.EthnicOrigin\n",
    "  ,a.StartDate, a.EndDate\n",
    "  ,p.birth_datetime AS DateOfBirth\n",
    "  ,p.gender_source_value AS Gender\n",
    "FROM\n",
    "    yhcr-prd-bradfor-bia-core.CB_2649.cb_bmbc_ChildrensSocialServices_CiNP AS a\n",
    "LEFT JOIN\n",
    "    yhcr-prd-bradfor-bia-core.CB_2649.person AS p\n",
    "ON\n",
    "    a.person_id = p.person_id\n",
    "\"\"\""
   ]
  },
  {
   "cell_type": "code",
   "execution_count": null,
   "id": "f9deb184-50c8-41d4-8060-e1b4d0a27a8c",
   "metadata": {
    "tags": []
   },
   "outputs": [],
   "source": [
    "cinp = pandas_gbq.read_gbq(cinp_query)\n",
    "cinp.info()"
   ]
  },
  {
   "cell_type": "markdown",
   "id": "bebe7be2-5d76-4d06-8738-7e865c438604",
   "metadata": {},
   "source": [
    "# Import Project functions"
   ]
  },
  {
   "cell_type": "code",
   "execution_count": null,
   "id": "13521610-914e-4c5e-afde-b363e22190c4",
   "metadata": {
    "tags": []
   },
   "outputs": [],
   "source": [
    "import sys\n",
    "sys.path.append('../code')\n",
    "\n",
    "from data_cleaning import fill_missing_dob, convert_dates_datatype, drop_duplicates, gender_mapping\n",
    "\n",
    "from demographic_analysis_helpers import (\n",
    "    analyse_person_ids,\n",
    "    add_calculated_columns,\n",
    "    plot_distributions,\n",
    "    plot_age_distribution,\n",
    "    plot_monthly_trends,\n",
    "    plot_monthly_entries_exits,\n",
    "    plot_running_total_in_intervention,\n",
    "    plot_duration_in_intervention,\n",
    "    plot_average_duration_by_age,\n",
    "    plot_median_duration_by_age,\n",
    "    plot_median_intervention_duration_over_time\n",
    ")"
   ]
  },
  {
   "cell_type": "code",
   "execution_count": null,
   "id": "1735f39e-7b4a-4a99-b984-a76feb4b207a",
   "metadata": {
    "tags": []
   },
   "outputs": [],
   "source": [
    "# Fill Missing DoB\n",
    "cinp = fill_missing_dob(cinp, 'YearOfBirth', 'DateOfBirth')\n",
    "\n",
    "# Convert Date columns datatype\n",
    "date_columns = ['StartDate', 'DateOfBirth', 'EndDate']\n",
    "cinp = convert_dates_datatype(cinp, date_columns)\n",
    "\n",
    "# Drop duplicates\n",
    "drop_duplicates(cinp)\n",
    "\n",
    "# Clean Gender column\n",
    "gender_mapping(cinp, 'Gender')\n",
    "\n",
    "# Remove the only 1 data point of December 2021\n",
    "cinp = cinp.loc[~(cinp['EndDate'] > '2021-11-30')]\n",
    "\n",
    "# Add calculated columns\n",
    "cinp = add_calculated_columns(cinp)\n",
    "\n",
    "cinp.info()"
   ]
  },
  {
   "cell_type": "markdown",
   "id": "bda081a2-f2b1-40c8-913f-a41c8369f506",
   "metadata": {},
   "source": [
    "## Exploratory Analysis"
   ]
  },
  {
   "cell_type": "code",
   "execution_count": null,
   "id": "9b8fcc5b-97ef-484f-b4ec-ba2188ededc8",
   "metadata": {
    "tags": []
   },
   "outputs": [],
   "source": [
    "# Plot Categorical Distributions\n",
    "plot_distributions(cinp, 'CiNP')"
   ]
  },
  {
   "cell_type": "code",
   "execution_count": null,
   "id": "975689d5-0298-43a4-a862-13d73e470c73",
   "metadata": {
    "tags": []
   },
   "outputs": [],
   "source": [
    "# Plot age distribution\n",
    "plot_age_distribution(cinp, 'CiNP')"
   ]
  },
  {
   "cell_type": "code",
   "execution_count": null,
   "id": "d5b75bd2-86fa-4e17-8330-b843518866c9",
   "metadata": {
    "tags": []
   },
   "outputs": [],
   "source": [
    "# Plot monthly trends\n",
    "plot_monthly_trends(cinp, 'CiNP', 'StartDate')"
   ]
  },
  {
   "cell_type": "code",
   "execution_count": null,
   "id": "3bf70ba7-5b0d-480d-a888-0a47ee803f5f",
   "metadata": {
    "tags": []
   },
   "outputs": [],
   "source": [
    "# Plot monthly ebtries and exits trends\n",
    "plot_monthly_entries_exits(cinp, 'StartDate', 'EndDate', 'CiNP')"
   ]
  },
  {
   "cell_type": "markdown",
   "id": "efff95c0-0db9-4f7c-96f8-f190b1782aef",
   "metadata": {},
   "source": [
    "## Entries into CiNP for Each Financial Year"
   ]
  },
  {
   "cell_type": "code",
   "execution_count": null,
   "id": "f087e9b9-7e27-40bb-abb6-9a950679793c",
   "metadata": {
    "tags": []
   },
   "outputs": [],
   "source": [
    "# Define financial years\n",
    "financial_years = [\n",
    "    ('2019/04-2020/03', '2019-04-01', '2020-03-31'),\n",
    "    ('2020/04-2021/03', '2020-04-01', '2021-03-31'),\n",
    "]\n",
    "\n",
    "# Calculate entries for each financial year\n",
    "entries_by_fy = []\n",
    "for fy_label, start_date, end_date in financial_years:\n",
    "    mask = (cinp['StartDate'] >= start_date) & (cinp['StartDate'] <= end_date)\n",
    "    cinp_entries = cinp[mask].shape[0]\n",
    "    entries_by_fy.append({\n",
    "        'Financial Year': fy_label,\n",
    "        'Total Entries': cinp_entries\n",
    "    })\n",
    "\n",
    "# Create a DataFrame for the results\n",
    "result_df = pd.DataFrame(entries_by_fy)\n",
    "\n",
    "# Display as a formatted table\n",
    "print(\"\\nTotal Entries by Financial Year:\")\n",
    "result_df"
   ]
  },
  {
   "cell_type": "code",
   "execution_count": null,
   "id": "d115fa53-1539-4ce8-95ce-b3e0bcb73730",
   "metadata": {
    "tags": []
   },
   "outputs": [],
   "source": [
    "# Plot demand in intervention\n",
    "plot_running_total_in_intervention(cinp, 'StartDate', 'EndDate', 'CiNP')"
   ]
  },
  {
   "cell_type": "code",
   "execution_count": null,
   "id": "6d008c23-52af-4ee1-bc84-0e4be9fd9b69",
   "metadata": {
    "tags": []
   },
   "outputs": [],
   "source": [
    "# Plot duration in intervention\n",
    "plot_duration_in_intervention(cinp, 'StartDate', 'EndDate', 'CiNP')"
   ]
  },
  {
   "cell_type": "code",
   "execution_count": null,
   "id": "79aa768b-7654-45a9-8108-cd15322d7abb",
   "metadata": {
    "tags": []
   },
   "outputs": [],
   "source": [
    "# # Plot average duration in intervention\n",
    "plot_average_duration_by_age(cinp, 'CiNP')"
   ]
  },
  {
   "cell_type": "code",
   "execution_count": null,
   "id": "df57421f-271c-482e-9cb5-023a1baac816",
   "metadata": {
    "tags": []
   },
   "outputs": [],
   "source": [
    "# Plot median duration by age group\n",
    "plot_median_duration_by_age(cinp, 'CiNP')"
   ]
  },
  {
   "cell_type": "code",
   "execution_count": null,
   "id": "1cd5411b-5e90-41d7-a672-600b4089327f",
   "metadata": {},
   "outputs": [],
   "source": [
    "# Plot median duration over time\n",
    "plot_median_intervention_duration_over_time(cinp, 'CiNP', 'EndDate',\n",
    "                                                'num_of_days_in_intervention',\n",
    "                                                time_freq='Y')"
   ]
  }
 ],
 "metadata": {
  "environment": {
   "kernel": "python3",
   "name": "r-cpu.m125",
   "type": "gcloud",
   "uri": "us-docker.pkg.dev/deeplearning-platform-release/gcr.io/r-cpu:m125"
  },
  "kernelspec": {
   "display_name": "Python 3 (Local)",
   "language": "python",
   "name": "python3"
  },
  "language_info": {
   "codemirror_mode": {
    "name": "ipython",
    "version": 3
   },
   "file_extension": ".py",
   "mimetype": "text/x-python",
   "name": "python",
   "nbconvert_exporter": "python",
   "pygments_lexer": "ipython3",
   "version": "3.10.15"
  }
 },
 "nbformat": 4,
 "nbformat_minor": 5
}
