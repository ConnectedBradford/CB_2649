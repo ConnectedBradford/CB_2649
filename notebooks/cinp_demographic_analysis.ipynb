{
 "cells": [
  {
   "cell_type": "markdown",
   "id": "f99805c8-2086-4afc-aab5-5a671d326cb2",
   "metadata": {},
   "source": [
    "# Child in Need Plan (CiNP) - Demographic Analysis"
   ]
  },
  {
   "cell_type": "code",
   "execution_count": 1,
   "id": "808ba34a-7c15-4f24-b9b0-a3be304ad122",
   "metadata": {
    "tags": []
   },
   "outputs": [],
   "source": [
    "#import bigquery\n",
    "from google.cloud import bigquery\n",
    "from google.cloud import bigquery_storage\n",
    " \n",
    "#other needed libraries\n",
    "import os\n",
    "import pandas as pd\n",
    "import numpy as np\n",
    "import pandas_gbq\n",
    "import seaborn as sns\n",
    "import matplotlib.pyplot as plt\n",
    "\n",
    "\n",
    "import warnings\n",
    "warnings.filterwarnings('ignore')\n",
    "plt.style.use('tableau-colorblind10')\n",
    "color='#702A7D'\n",
    "grey_color = '#A9A9A9'\n",
    "\n",
    "\n",
    "os.environ[\"GOOGLE_APPLICATION_CREDENTIALS\"] = \"/home/jupyter/.config/gcloud/application_default_credentials.json\"\n",
    "\n",
    "#Instatiate BigQuery Client\n",
    "client = bigquery.Client()"
   ]
  },
  {
   "cell_type": "code",
   "execution_count": 2,
   "id": "9b83697c-bad8-40d8-a811-29037292e4c7",
   "metadata": {
    "tags": []
   },
   "outputs": [],
   "source": [
    "cinp_query = \"\"\"\n",
    "WITH LatestAssessment AS (\n",
    "    SELECT\n",
    "        a.person_id,\n",
    "        a.StartDate,\n",
    "        ROW_NUMBER() OVER (PARTITION BY a.person_id ORDER BY a.StartDate DESC) as rn,\n",
    "        f.category\n",
    "    FROM\n",
    "        yhcr-prd-bradfor-bia-core.CB_2649.tbl_bmbc_Childrens_Social_Services_Assessments AS a\n",
    "    LEFT JOIN\n",
    "        yhcr-prd-bradfor-bia-core.CB_2649.cb_FactorLookup AS f\n",
    "        ON a.factorid = f.factorid\n",
    ")\n",
    "SELECT\n",
    "  a.person_id, a.YearOfBirth\n",
    "  ,a.PCArea, a.EthnicOrigin\n",
    "  ,a.StartDate, a.EndDate\n",
    "  ,p.birth_datetime AS DateOfBirth\n",
    "  ,la.category AS Category\n",
    "FROM\n",
    "  yhcr-prd-bradfor-bia-core.CB_2649.cb_bmbc_ChildrensSocialServices_CiNP AS a\n",
    "  \n",
    "LEFT JOIN\n",
    "    yhcr-prd-bradfor-bia-core.CB_2649.person AS p\n",
    "ON\n",
    "    a.person_id = p.person_id\n",
    "LEFT JOIN\n",
    "    LatestAssessment la\n",
    "    ON a.person_id = la.person_id\n",
    "    AND la.rn = 1;\n",
    "\"\"\""
   ]
  },
  {
   "cell_type": "code",
   "execution_count": 3,
   "id": "f9deb184-50c8-41d4-8060-e1b4d0a27a8c",
   "metadata": {
    "tags": []
   },
   "outputs": [
    {
     "name": "stdout",
     "output_type": "stream",
     "text": [
      "Downloading: 100%|\u001b[32m██████████\u001b[0m|\n",
      "<class 'pandas.core.frame.DataFrame'>\n",
      "RangeIndex: 5749 entries, 0 to 5748\n",
      "Data columns (total 8 columns):\n",
      " #   Column        Non-Null Count  Dtype              \n",
      "---  ------        --------------  -----              \n",
      " 0   person_id     5749 non-null   object             \n",
      " 1   YearOfBirth   5749 non-null   Int64              \n",
      " 2   PCArea        5749 non-null   object             \n",
      " 3   EthnicOrigin  5749 non-null   object             \n",
      " 4   StartDate     5749 non-null   dbdate             \n",
      " 5   EndDate       4322 non-null   dbdate             \n",
      " 6   DateOfBirth   5733 non-null   datetime64[us, UTC]\n",
      " 7   Category      5096 non-null   object             \n",
      "dtypes: Int64(1), datetime64[us, UTC](1), dbdate(2), object(4)\n",
      "memory usage: 365.1+ KB\n"
     ]
    }
   ],
   "source": [
    "cinp = pandas_gbq.read_gbq(cinp_query)\n",
    "cinp.info()"
   ]
  },
  {
   "cell_type": "code",
   "execution_count": null,
   "id": "5c2bda2b-7bfe-4a1c-8abe-80c8f0a69aab",
   "metadata": {},
   "outputs": [],
   "source": []
  }
 ],
 "metadata": {
  "environment": {
   "kernel": "python3",
   "name": "r-cpu.m125",
   "type": "gcloud",
   "uri": "us-docker.pkg.dev/deeplearning-platform-release/gcr.io/r-cpu:m125"
  },
  "kernelspec": {
   "display_name": "Python 3 (Local)",
   "language": "python",
   "name": "python3"
  },
  "language_info": {
   "codemirror_mode": {
    "name": "ipython",
    "version": 3
   },
   "file_extension": ".py",
   "mimetype": "text/x-python",
   "name": "python",
   "nbconvert_exporter": "python",
   "pygments_lexer": "ipython3",
   "version": "3.10.15"
  }
 },
 "nbformat": 4,
 "nbformat_minor": 5
}
