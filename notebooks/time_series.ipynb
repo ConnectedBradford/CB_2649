{
 "cells": [
  {
   "cell_type": "markdown",
   "id": "06d9d5ae-4709-4159-9f5d-baf6514933a7",
   "metadata": {},
   "source": [
    "# Time Series Analysis"
   ]
  },
  {
   "cell_type": "code",
   "execution_count": 1,
   "id": "108c9e8c-ce5c-43e7-94bb-f1d08b6b4de0",
   "metadata": {
    "tags": []
   },
   "outputs": [],
   "source": [
    "#import bigquery\n",
    "from google.cloud import bigquery\n",
    "from google.cloud import bigquery_storage\n",
    " \n",
    "#other needed libraries\n",
    "import os\n",
    "import pandas as pd\n",
    "import numpy as np\n",
    "import pandas_gbq\n",
    "import seaborn as sns\n",
    "import matplotlib.pyplot as plt\n",
    "\n",
    "\n",
    "import warnings\n",
    "warnings.filterwarnings('ignore', category=FutureWarning)\n",
    "plt.style.use('ggplot')\n",
    "color='#702A7D'"
   ]
  },
  {
   "cell_type": "code",
   "execution_count": 2,
   "id": "ae23e427-db29-431e-9e8f-2912eba9224f",
   "metadata": {
    "tags": []
   },
   "outputs": [
    {
     "name": "stderr",
     "output_type": "stream",
     "text": [
      "/opt/conda/lib/python3.10/site-packages/google/auth/_default.py:76: UserWarning: Your application has authenticated using end user credentials from Google Cloud SDK without a quota project. You might receive a \"quota exceeded\" or \"API not enabled\" error. See the following page for troubleshooting: https://cloud.google.com/docs/authentication/adc-troubleshooting/user-creds. \n",
      "  warnings.warn(_CLOUD_SDK_CREDENTIALS_WARNING)\n"
     ]
    }
   ],
   "source": [
    "os.environ[\"GOOGLE_APPLICATION_CREDENTIALS\"] = \"/home/jupyter/.config/gcloud/application_default_credentials.json\"\n",
    "\n",
    "#Instatiate BigQuery Client\n",
    "client = bigquery.Client()"
   ]
  },
  {
   "cell_type": "code",
   "execution_count": 6,
   "id": "8e4f4ef8-e9d8-4df6-ba4f-4c46a790baff",
   "metadata": {
    "tags": []
   },
   "outputs": [],
   "source": [
    "# CPP Data\n",
    "cpp_query = \"\"\"\n",
    "SELECT\n",
    "  a.person_id_hashed, a.YearOfBirth\n",
    "  ,a.PCArea, a.EthnicOrigin, a.CPP_Category\n",
    "  ,a.StartDate, a.EndDate\n",
    "  ,p.birth_datetime\n",
    "FROM\n",
    "    yhcr-prd-bradfor-bia-core.CB_2649.cb_bmbc_ChildrensSocialServices_CPP AS a\n",
    "LEFT JOIN\n",
    "    yhcr-prd-bradfor-bia-core.CB_2649.person AS p\n",
    "ON\n",
    "    a.person_id_hashed = p.person_id_hashed\n",
    "\"\"\"\n",
    "\n",
    "# ------- CiC Data ---------------\n",
    "cic_query = \"\"\"\n",
    "SELECT\n",
    "  a.person_id_hashed, a.YearOfBirth\n",
    "  ,a.PCArea_Home AS PCArea, a.EthnicOrigin\n",
    "  ,a.StartDate, a.EndDate\n",
    "  ,p.birth_datetime\n",
    "FROM\n",
    "  yhcr-prd-bradfor-bia-core.CB_2649.cb_bmbc_ChildrensSocialServices_CiC AS a\n",
    "\n",
    "LEFT JOIN\n",
    "    yhcr-prd-bradfor-bia-core.CB_2649.person AS p\n",
    "ON\n",
    "    a.person_id_hashed = p.person_id_hashed\n",
    "\n",
    "\"\"\"\n",
    "# -------- CiNP Data ----------\n",
    "cinp_query = \"\"\"\n",
    "SELECT\n",
    "  a.person_id_hashed, a.YearOfBirth\n",
    "  ,a.PCArea, a.EthnicOrigin\n",
    "  ,a.StartDate, a.EndDate\n",
    "  ,p.birth_datetime\n",
    "FROM\n",
    "  yhcr-prd-bradfor-bia-core.CB_2649.cb_bmbc_ChildrensSocialServices_CiNP AS a\n",
    "  \n",
    "LEFT JOIN\n",
    "    yhcr-prd-bradfor-bia-core.CB_2649.person AS p\n",
    "ON\n",
    "    a.person_id_hashed = p.person_id_hashed\n",
    "\n",
    "\"\"\""
   ]
  },
  {
   "cell_type": "markdown",
   "id": "f7629469-c734-4af1-ac10-50767f9fe085",
   "metadata": {},
   "source": [
    "# Load Datasets"
   ]
  },
  {
   "cell_type": "code",
   "execution_count": 7,
   "id": "3e6275f7-8952-4226-b802-617f5dde50bf",
   "metadata": {
    "tags": []
   },
   "outputs": [
    {
     "name": "stdout",
     "output_type": "stream",
     "text": [
      "Downloading: 100%|\u001b[32m██████████\u001b[0m|\n",
      "Downloading: 100%|\u001b[32m██████████\u001b[0m|\n",
      "Downloading: 100%|\u001b[32m██████████\u001b[0m|\n"
     ]
    }
   ],
   "source": [
    "cpp = pandas_gbq.read_gbq(cpp_query)\n",
    "cic = pandas_gbq.read_gbq(cic_query)\n",
    "cinp = pandas_gbq.read_gbq(cinp_query)"
   ]
  },
  {
   "cell_type": "code",
   "execution_count": 8,
   "id": "6be14679-9833-4e7f-aa45-363759c8ea0d",
   "metadata": {
    "tags": []
   },
   "outputs": [
    {
     "name": "stdout",
     "output_type": "stream",
     "text": [
      "<class 'pandas.core.frame.DataFrame'>\n",
      "RangeIndex: 1920 entries, 0 to 1919\n",
      "Data columns (total 7 columns):\n",
      " #   Column            Non-Null Count  Dtype              \n",
      "---  ------            --------------  -----              \n",
      " 0   person_id_hashed  1920 non-null   object             \n",
      " 1   YearOfBirth       1920 non-null   Int64              \n",
      " 2   PCArea            1920 non-null   object             \n",
      " 3   EthnicOrigin      1920 non-null   object             \n",
      " 4   StartDate         1920 non-null   dbdate             \n",
      " 5   EndDate           963 non-null    dbdate             \n",
      " 6   birth_datetime    1914 non-null   datetime64[us, UTC]\n",
      "dtypes: Int64(1), datetime64[us, UTC](1), dbdate(2), object(3)\n",
      "memory usage: 107.0+ KB\n"
     ]
    }
   ],
   "source": [
    "cic.info()"
   ]
  },
  {
   "cell_type": "code",
   "execution_count": 9,
   "id": "25e3e3b7-8ac3-44f1-8fac-615b6b7235d1",
   "metadata": {
    "tags": []
   },
   "outputs": [
    {
     "name": "stdout",
     "output_type": "stream",
     "text": [
      "<class 'pandas.core.frame.DataFrame'>\n",
      "RangeIndex: 4112 entries, 0 to 4111\n",
      "Data columns (total 8 columns):\n",
      " #   Column            Non-Null Count  Dtype              \n",
      "---  ------            --------------  -----              \n",
      " 0   person_id_hashed  4112 non-null   object             \n",
      " 1   YearOfBirth       4112 non-null   Int64              \n",
      " 2   PCArea            4112 non-null   object             \n",
      " 3   EthnicOrigin      4112 non-null   object             \n",
      " 4   CPP_Category      4112 non-null   object             \n",
      " 5   StartDate         4112 non-null   dbdate             \n",
      " 6   EndDate           3216 non-null   dbdate             \n",
      " 7   birth_datetime    4110 non-null   datetime64[us, UTC]\n",
      "dtypes: Int64(1), datetime64[us, UTC](1), dbdate(2), object(4)\n",
      "memory usage: 261.1+ KB\n"
     ]
    }
   ],
   "source": [
    "cpp.info()"
   ]
  },
  {
   "cell_type": "code",
   "execution_count": 10,
   "id": "cd8233db-a6a2-41e4-bb71-2f42ba2796ae",
   "metadata": {
    "tags": []
   },
   "outputs": [
    {
     "data": {
      "text/html": [
       "<div>\n",
       "<style scoped>\n",
       "    .dataframe tbody tr th:only-of-type {\n",
       "        vertical-align: middle;\n",
       "    }\n",
       "\n",
       "    .dataframe tbody tr th {\n",
       "        vertical-align: top;\n",
       "    }\n",
       "\n",
       "    .dataframe thead th {\n",
       "        text-align: right;\n",
       "    }\n",
       "</style>\n",
       "<table border=\"1\" class=\"dataframe\">\n",
       "  <thead>\n",
       "    <tr style=\"text-align: right;\">\n",
       "      <th></th>\n",
       "      <th>person_id_hashed</th>\n",
       "      <th>YearOfBirth</th>\n",
       "      <th>PCArea</th>\n",
       "      <th>EthnicOrigin</th>\n",
       "      <th>CPP_Category</th>\n",
       "      <th>StartDate</th>\n",
       "      <th>EndDate</th>\n",
       "      <th>birth_datetime</th>\n",
       "    </tr>\n",
       "  </thead>\n",
       "  <tbody>\n",
       "    <tr>\n",
       "      <th>0</th>\n",
       "      <td>C9B1DB2054F1D69B674BA78B879110113E7EBB6CF229D4...</td>\n",
       "      <td>2021</td>\n",
       "      <td></td>\n",
       "      <td>Asian/British Asian - Pakistani</td>\n",
       "      <td>Neglect</td>\n",
       "      <td>2021-01-26</td>\n",
       "      <td>NaT</td>\n",
       "      <td>2021-02-15 00:00:00+00:00</td>\n",
       "    </tr>\n",
       "    <tr>\n",
       "      <th>1</th>\n",
       "      <td>CE05511AE9E947ED3248AD446BFCFBBCBB0E07FDC458A9...</td>\n",
       "      <td>2021</td>\n",
       "      <td></td>\n",
       "      <td>White - British</td>\n",
       "      <td>Emotional Abuse</td>\n",
       "      <td>2021-01-12</td>\n",
       "      <td>NaT</td>\n",
       "      <td>2021-05-15 00:00:00+00:00</td>\n",
       "    </tr>\n",
       "    <tr>\n",
       "      <th>2</th>\n",
       "      <td>A53B7CB131455D1FF1868DD79CF73BCD273FC814D512FB...</td>\n",
       "      <td>2021</td>\n",
       "      <td></td>\n",
       "      <td>White - British</td>\n",
       "      <td>Neglect</td>\n",
       "      <td>2021-05-06</td>\n",
       "      <td>NaT</td>\n",
       "      <td>2021-05-15 00:00:00+00:00</td>\n",
       "    </tr>\n",
       "    <tr>\n",
       "      <th>3</th>\n",
       "      <td>A8761FA45B1F1618DDB6D1AC16A4EF230E25BC0BF59273...</td>\n",
       "      <td>2021</td>\n",
       "      <td></td>\n",
       "      <td>White - British</td>\n",
       "      <td>Emotional Abuse</td>\n",
       "      <td>2020-11-05</td>\n",
       "      <td>NaT</td>\n",
       "      <td>2021-04-15 00:00:00+00:00</td>\n",
       "    </tr>\n",
       "    <tr>\n",
       "      <th>4</th>\n",
       "      <td>FC64B02447FD8AA2E9CAC290A5BA7A183F70EBC9225EE3...</td>\n",
       "      <td>2021</td>\n",
       "      <td></td>\n",
       "      <td>Other Ethnic Group</td>\n",
       "      <td>Emotional Abuse</td>\n",
       "      <td>2020-11-24</td>\n",
       "      <td>NaT</td>\n",
       "      <td>2021-03-15 00:00:00+00:00</td>\n",
       "    </tr>\n",
       "    <tr>\n",
       "      <th>...</th>\n",
       "      <td>...</td>\n",
       "      <td>...</td>\n",
       "      <td>...</td>\n",
       "      <td>...</td>\n",
       "      <td>...</td>\n",
       "      <td>...</td>\n",
       "      <td>...</td>\n",
       "      <td>...</td>\n",
       "    </tr>\n",
       "    <tr>\n",
       "      <th>4107</th>\n",
       "      <td>F8421E6A3784CAF7D7124908D432B670AFABB21A861889...</td>\n",
       "      <td>2014</td>\n",
       "      <td>OO00</td>\n",
       "      <td>Mixed - Other</td>\n",
       "      <td>Emotional Abuse</td>\n",
       "      <td>2020-01-13</td>\n",
       "      <td>2020-02-24</td>\n",
       "      <td>2014-11-15 00:00:00+00:00</td>\n",
       "    </tr>\n",
       "    <tr>\n",
       "      <th>4108</th>\n",
       "      <td>8EB35DC12431478CD6A15C71806766571495FE73C00E93...</td>\n",
       "      <td>2018</td>\n",
       "      <td>OO00</td>\n",
       "      <td>White - Eastern European</td>\n",
       "      <td>Neglect</td>\n",
       "      <td>2020-01-22</td>\n",
       "      <td>2021-02-01</td>\n",
       "      <td>2018-06-15 00:00:00+00:00</td>\n",
       "    </tr>\n",
       "    <tr>\n",
       "      <th>4109</th>\n",
       "      <td>F1C9E2AEAF1A72C1EB5B8FB92CAAAAE62D9FAC8CE90ED1...</td>\n",
       "      <td>2019</td>\n",
       "      <td>OO00</td>\n",
       "      <td>White - Eastern European</td>\n",
       "      <td>Neglect</td>\n",
       "      <td>2020-01-22</td>\n",
       "      <td>2021-02-01</td>\n",
       "      <td>2019-11-15 00:00:00+00:00</td>\n",
       "    </tr>\n",
       "    <tr>\n",
       "      <th>4110</th>\n",
       "      <td>78620C6F421174EA35621CCD7D4B37113A2FA745546585...</td>\n",
       "      <td>2006</td>\n",
       "      <td>OO00</td>\n",
       "      <td>Black/Black British - African</td>\n",
       "      <td>Physical Abuse</td>\n",
       "      <td>2019-02-19</td>\n",
       "      <td>2019-10-03</td>\n",
       "      <td>2006-02-15 00:00:00+00:00</td>\n",
       "    </tr>\n",
       "    <tr>\n",
       "      <th>4111</th>\n",
       "      <td>E861CC9DB0EE225C8CD895A19255778F231979F4D08798...</td>\n",
       "      <td>2020</td>\n",
       "      <td>WF2</td>\n",
       "      <td>White - British</td>\n",
       "      <td>Neglect</td>\n",
       "      <td>2020-03-25</td>\n",
       "      <td>2020-09-03</td>\n",
       "      <td>2020-03-15 00:00:00+00:00</td>\n",
       "    </tr>\n",
       "  </tbody>\n",
       "</table>\n",
       "<p>4112 rows × 8 columns</p>\n",
       "</div>"
      ],
      "text/plain": [
       "                                       person_id_hashed  YearOfBirth PCArea  \\\n",
       "0     C9B1DB2054F1D69B674BA78B879110113E7EBB6CF229D4...         2021          \n",
       "1     CE05511AE9E947ED3248AD446BFCFBBCBB0E07FDC458A9...         2021          \n",
       "2     A53B7CB131455D1FF1868DD79CF73BCD273FC814D512FB...         2021          \n",
       "3     A8761FA45B1F1618DDB6D1AC16A4EF230E25BC0BF59273...         2021          \n",
       "4     FC64B02447FD8AA2E9CAC290A5BA7A183F70EBC9225EE3...         2021          \n",
       "...                                                 ...          ...    ...   \n",
       "4107  F8421E6A3784CAF7D7124908D432B670AFABB21A861889...         2014   OO00   \n",
       "4108  8EB35DC12431478CD6A15C71806766571495FE73C00E93...         2018   OO00   \n",
       "4109  F1C9E2AEAF1A72C1EB5B8FB92CAAAAE62D9FAC8CE90ED1...         2019   OO00   \n",
       "4110  78620C6F421174EA35621CCD7D4B37113A2FA745546585...         2006   OO00   \n",
       "4111  E861CC9DB0EE225C8CD895A19255778F231979F4D08798...         2020   WF2    \n",
       "\n",
       "                         EthnicOrigin     CPP_Category   StartDate  \\\n",
       "0     Asian/British Asian - Pakistani          Neglect  2021-01-26   \n",
       "1                     White - British  Emotional Abuse  2021-01-12   \n",
       "2                     White - British          Neglect  2021-05-06   \n",
       "3                     White - British  Emotional Abuse  2020-11-05   \n",
       "4                  Other Ethnic Group  Emotional Abuse  2020-11-24   \n",
       "...                               ...              ...         ...   \n",
       "4107                    Mixed - Other  Emotional Abuse  2020-01-13   \n",
       "4108         White - Eastern European          Neglect  2020-01-22   \n",
       "4109         White - Eastern European          Neglect  2020-01-22   \n",
       "4110    Black/Black British - African   Physical Abuse  2019-02-19   \n",
       "4111                  White - British          Neglect  2020-03-25   \n",
       "\n",
       "         EndDate            birth_datetime  \n",
       "0            NaT 2021-02-15 00:00:00+00:00  \n",
       "1            NaT 2021-05-15 00:00:00+00:00  \n",
       "2            NaT 2021-05-15 00:00:00+00:00  \n",
       "3            NaT 2021-04-15 00:00:00+00:00  \n",
       "4            NaT 2021-03-15 00:00:00+00:00  \n",
       "...          ...                       ...  \n",
       "4107  2020-02-24 2014-11-15 00:00:00+00:00  \n",
       "4108  2021-02-01 2018-06-15 00:00:00+00:00  \n",
       "4109  2021-02-01 2019-11-15 00:00:00+00:00  \n",
       "4110  2019-10-03 2006-02-15 00:00:00+00:00  \n",
       "4111  2020-09-03 2020-03-15 00:00:00+00:00  \n",
       "\n",
       "[4112 rows x 8 columns]"
      ]
     },
     "execution_count": 10,
     "metadata": {},
     "output_type": "execute_result"
    }
   ],
   "source": [
    "cpp"
   ]
  },
  {
   "cell_type": "code",
   "execution_count": null,
   "id": "153aa83b-d76d-4386-944d-ec3110e1d978",
   "metadata": {},
   "outputs": [],
   "source": []
  }
 ],
 "metadata": {
  "environment": {
   "kernel": "python3",
   "name": "r-cpu.m125",
   "type": "gcloud",
   "uri": "us-docker.pkg.dev/deeplearning-platform-release/gcr.io/r-cpu:m125"
  },
  "kernelspec": {
   "display_name": "Python 3 (Local)",
   "language": "python",
   "name": "python3"
  },
  "language_info": {
   "codemirror_mode": {
    "name": "ipython",
    "version": 3
   },
   "file_extension": ".py",
   "mimetype": "text/x-python",
   "name": "python",
   "nbconvert_exporter": "python",
   "pygments_lexer": "ipython3",
   "version": "3.10.15"
  }
 },
 "nbformat": 4,
 "nbformat_minor": 5
}
