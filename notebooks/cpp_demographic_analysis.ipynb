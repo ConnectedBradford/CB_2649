{
 "cells": [
  {
   "cell_type": "markdown",
   "id": "86feed6d-ed9e-45b9-a01e-c05b606a6325",
   "metadata": {},
   "source": [
    "# Child Protection Plan (CPP) - Demographic Analysis"
   ]
  },
  {
   "cell_type": "markdown",
   "id": "b0fefdae-78ad-4004-be31-4f03924251bf",
   "metadata": {},
   "source": [
    "# Import Libraries"
   ]
  },
  {
   "cell_type": "code",
   "execution_count": null,
   "id": "3b5b7ea9-5e10-4f7a-9af5-e0944b682fb9",
   "metadata": {
    "tags": []
   },
   "outputs": [],
   "source": [
    "#import bigquery\n",
    "from google.cloud import bigquery\n",
    "from google.cloud import bigquery_storage\n",
    " \n",
    "#other needed libraries\n",
    "import os\n",
    "import pandas as pd\n",
    "import numpy as np\n",
    "import pandas_gbq\n",
    "import seaborn as sns\n",
    "import matplotlib.pyplot as plt\n",
    "from dateutil.relativedelta import relativedelta\n",
    "\n",
    "import warnings\n",
    "warnings.filterwarnings('ignore')\n",
    "plt.style.use('tableau-colorblind10')\n",
    "color='#702A7D'\n",
    "grey_color = '#A9A9A9'"
   ]
  },
  {
   "cell_type": "code",
   "execution_count": null,
   "id": "e34abad0-8a04-4bfc-aabc-5a1e307a393f",
   "metadata": {},
   "outputs": [],
   "source": [
    "os.environ[\"GOOGLE_APPLICATION_CREDENTIALS\"] = \"/home/jupyter/.config/gcloud/application_default_credentials.json\"\n",
    "\n",
    "#Instatiate BigQuery Client\n",
    "client = bigquery.Client()"
   ]
  },
  {
   "cell_type": "markdown",
   "id": "e261cf6c-81ac-484e-a3e1-9c818a0446fb",
   "metadata": {},
   "source": [
    "# Define Query for Import"
   ]
  },
  {
   "cell_type": "code",
   "execution_count": null,
   "id": "d531d884-503e-43cf-be09-5087350421bb",
   "metadata": {},
   "outputs": [],
   "source": [
    "# CPP Data\n",
    "cpp_query = \"\"\"\n",
    "SELECT\n",
    "  a.person_id, a.YearOfBirth\n",
    "  ,a.PCArea, a.EthnicOrigin, a.CPP_Category\n",
    "  ,a.StartDate, a.EndDate\n",
    "  ,DATE(p.birth_datetime) AS DateOfBirth\n",
    "  ,p.gender_source_value AS Gender\n",
    "FROM\n",
    "    yhcr-prd-bradfor-bia-core.CB_2649.cb_bmbc_ChildrensSocialServices_CPP AS a\n",
    "LEFT JOIN\n",
    "    yhcr-prd-bradfor-bia-core.CB_2649.person AS p\n",
    "ON\n",
    "    a.person_id = p.person_id\n",
    "\"\"\""
   ]
  },
  {
   "cell_type": "markdown",
   "id": "a09522d9-b516-41e8-b6ac-a46eb321566e",
   "metadata": {},
   "source": [
    "# Load Queries into dataframes"
   ]
  },
  {
   "cell_type": "code",
   "execution_count": null,
   "id": "35f1df12-5a00-409c-933e-6dc10b10b5fc",
   "metadata": {
    "tags": []
   },
   "outputs": [],
   "source": [
    "cpp = pandas_gbq.read_gbq(cpp_query)"
   ]
  },
  {
   "cell_type": "markdown",
   "id": "c6a574c2-f973-4e58-bad3-ec77961c698f",
   "metadata": {},
   "source": [
    "## CPP - Child Protection Plan"
   ]
  },
  {
   "cell_type": "code",
   "execution_count": null,
   "id": "03d6a74a-52d1-4ab2-b955-18e6eca6a537",
   "metadata": {
    "tags": []
   },
   "outputs": [],
   "source": [
    "# First few rows of cpp\n",
    "cpp.head()"
   ]
  },
  {
   "cell_type": "code",
   "execution_count": null,
   "id": "d1ec3d04-799e-4cac-b55c-898f1ae719b0",
   "metadata": {
    "tags": []
   },
   "outputs": [],
   "source": [
    "# CPP columns overview\n",
    "cpp.info()"
   ]
  },
  {
   "cell_type": "code",
   "execution_count": null,
   "id": "806dace1-553b-4caa-8b3a-7ffc484f1a5d",
   "metadata": {
    "tags": []
   },
   "outputs": [],
   "source": [
    "# Total null values per column\n",
    "cpp.isnull().sum()"
   ]
  },
  {
   "cell_type": "code",
   "execution_count": null,
   "id": "2d20d238-445e-494e-97ed-1a699395e780",
   "metadata": {
    "tags": []
   },
   "outputs": [],
   "source": [
    "# Locate entries that have missing DateOfBirth\n",
    "cpp.loc[cpp.DateOfBirth.isnull()]"
   ]
  },
  {
   "cell_type": "code",
   "execution_count": null,
   "id": "eae65b85-8a8a-4773-a254-662906aba7d1",
   "metadata": {
    "tags": []
   },
   "outputs": [],
   "source": [
    "# Fill the missing date of birth as 15th of January. All DoB have day of birth as 15th\n",
    "cpp.loc[1643, 'DateOfBirth'] = '2008-01-15'\n",
    "cpp.loc[2665, 'DateOfBirth'] = '2003-01-15'"
   ]
  },
  {
   "cell_type": "code",
   "execution_count": null,
   "id": "14aad11d-fd6c-45df-9a1c-cc7811b50da2",
   "metadata": {
    "tags": []
   },
   "outputs": [],
   "source": [
    "# Locate entries that have missing DateOfBirth\n",
    "cpp.loc[cpp.DateOfBirth.isnull()]"
   ]
  },
  {
   "cell_type": "code",
   "execution_count": null,
   "id": "33e53f15-41ce-4b2e-be7d-ecc0ec6cf6a6",
   "metadata": {
    "tags": []
   },
   "outputs": [],
   "source": [
    "# Unique values in the gender column\n",
    "cpp.Gender.unique()"
   ]
  },
  {
   "cell_type": "code",
   "execution_count": null,
   "id": "97e60485-6870-4ea1-8761-152f9e21a8a9",
   "metadata": {
    "tags": []
   },
   "outputs": [],
   "source": [
    "# Create a mapping dictionary to clean the gender column\n",
    "gender_mapping = {\n",
    "    'F': 'Female',\n",
    "    'M': 'Male',\n",
    "    '1': None, # Not sure if it's M or F, so we decide on None since it's not much\n",
    "    '2': None, # Not sure if it's M or F, so we decide on None since it's not much\n",
    "    'Male': 'Male',\n",
    "    'Female': 'Female',\n",
    "    'U': None,\n",
    "    'N': None,  \n",
    "    'null': None,\n",
    "    None: None\n",
    "}\n",
    "\n",
    "# clean the gender column\n",
    "\n",
    "cpp['Gender'] = cpp['Gender'].map(gender_mapping)"
   ]
  },
  {
   "cell_type": "code",
   "execution_count": null,
   "id": "5214b1f6-0f16-4558-ab4a-b86302ab5212",
   "metadata": {
    "tags": []
   },
   "outputs": [],
   "source": [
    "# Convert the dates to datetime format\n",
    "cpp['StartDate'] = pd.to_datetime(cpp['StartDate'])\n",
    "cpp['EndDate'] = pd.to_datetime(cpp['EndDate'])\n",
    "cpp['DateOfBirth'] = pd.to_datetime(cpp['DateOfBirth'])\n",
    "\n",
    "# Verify\n",
    "cpp.dtypes"
   ]
  },
  {
   "cell_type": "code",
   "execution_count": null,
   "id": "40b797ff-1263-48d5-a8bd-6e00eddb7267",
   "metadata": {
    "tags": []
   },
   "outputs": [],
   "source": [
    "# Timeline of the dataset\n",
    "minimum_start_date = np.min(cpp['StartDate'])\n",
    "last_start_date = np.max(cpp['StartDate'])\n",
    "\n",
    "print(f\"The CPP Data starts from: {minimum_start_date}\")\n",
    "print(f\"The last start date is: {last_start_date}\")"
   ]
  },
  {
   "cell_type": "code",
   "execution_count": null,
   "id": "0cc6c95c-791d-4d9a-bb1a-249d19b99415",
   "metadata": {
    "tags": []
   },
   "outputs": [],
   "source": [
    "# Check for duplicates\n",
    "cpp.duplicated().sum()"
   ]
  },
  {
   "cell_type": "code",
   "execution_count": null,
   "id": "832741e8-cf7a-4e1e-86a1-584b38ab2ac0",
   "metadata": {
    "tags": []
   },
   "outputs": [],
   "source": [
    "# Locate the duplicate entry\n",
    "cpp.loc[cpp.duplicated(keep=False)]"
   ]
  },
  {
   "cell_type": "code",
   "execution_count": null,
   "id": "1a0f6b8b-0a2a-4d30-969a-fb9fdc7aa13d",
   "metadata": {
    "tags": []
   },
   "outputs": [],
   "source": [
    "# Drop the duplicate entry\n",
    "cpp.drop_duplicates(inplace=True)"
   ]
  },
  {
   "cell_type": "code",
   "execution_count": null,
   "id": "49369581-40a5-4752-92ae-22c503bffc60",
   "metadata": {
    "tags": []
   },
   "outputs": [],
   "source": [
    "# Number of Persons in the CPP\n",
    "print(f'Number of Unique IDs: {cpp.person_id.nunique()}')"
   ]
  },
  {
   "cell_type": "code",
   "execution_count": null,
   "id": "02fe0187-75a0-419a-ac40-17b678578c2f",
   "metadata": {
    "tags": []
   },
   "outputs": [],
   "source": [
    "# check for duplicate person_id to see if there are re-entries\n",
    "print(f\"Number of duplicate person_ids: {cpp.duplicated('person_id').sum()} \\n\")\n",
    "\n",
    "duplicate_person_ids = cpp.loc[(cpp.duplicated('person_id', keep=False))].sort_values(by='person_id')\n",
    "duplicate_person_ids"
   ]
  },
  {
   "cell_type": "code",
   "execution_count": null,
   "id": "bf1ef494-370d-460f-ad2b-8b4dd2d5c24b",
   "metadata": {
    "tags": []
   },
   "outputs": [],
   "source": [
    "# Display top 10 Persons with re-entries\n",
    "duplicate_person_ids.person_id.value_counts().head(10)"
   ]
  },
  {
   "cell_type": "markdown",
   "id": "eb834b18-85dd-42ad-8eba-a97f8f9f6568",
   "metadata": {},
   "source": [
    "## Data Exploration"
   ]
  },
  {
   "cell_type": "code",
   "execution_count": null,
   "id": "64210cd1-441f-40f2-9137-85f931d82646",
   "metadata": {
    "tags": []
   },
   "outputs": [],
   "source": [
    "# Gender Distribution\n",
    "plt.figure(figsize=(5,4))\n",
    "ax = sns.countplot(data=cpp, \n",
    "                   x='Gender',\n",
    "                   color=color)\n",
    "ax.set_title(' CPP Gender Distribution')\n",
    "ax.set_xlabel('Gender')\n",
    "\n",
    "# Add counts to the bar\n",
    "for container in ax.containers:\n",
    "    ax.bar_label(container, fmt='%d')\n",
    "\n",
    "plt.tight_layout()\n",
    "plt.show()"
   ]
  },
  {
   "cell_type": "code",
   "execution_count": null,
   "id": "0bfca196-6718-4187-9a06-9d26cabed7c1",
   "metadata": {
    "tags": []
   },
   "outputs": [],
   "source": [
    "# Ethnicity Distribution\n",
    "plt.figure(figsize=(8, 10))\n",
    "\n",
    "# Calculate percentages\n",
    "ethnicity_counts = cpp['EthnicOrigin'].value_counts(normalize=True) * 100\n",
    "ethnicity_order = ethnicity_counts.sort_values(ascending=False).index[:12]\n",
    "\n",
    "# Filter to top 12 ethnicities\n",
    "top_ethnicity_counts = ethnicity_counts[ethnicity_order]\n",
    "\n",
    "# Create the plot with percentages\n",
    "ax = sns.barplot(\n",
    "    x=top_ethnicity_counts.values,\n",
    "    y=ethnicity_order,\n",
    "    color=color\n",
    ")\n",
    "ax.set_title('Top 12 Ethnicity Distribution in CPP', fontsize=11)\n",
    "ax.set_xlabel('Percentage (%)', fontsize=12)\n",
    "ax.set_ylabel(None)\n",
    "# Add percentage labels to the bars\n",
    "for i, p in enumerate(ax.patches):\n",
    "    width = p.get_width()\n",
    "    ax.text(\n",
    "        width + 0.3,\n",
    "        p.get_y() + p.get_height()/2,\n",
    "        f'{width:.1f}%',  \n",
    "        ha='left',\n",
    "        va='center',\n",
    "        fontsize=10)\n",
    "plt.tight_layout()\n",
    "plt.savefig('../figs/CPP_Ethinicity_Dist.png', dpi=300)\n",
    "plt.show()"
   ]
  },
  {
   "cell_type": "code",
   "execution_count": null,
   "id": "a61cb9be-a482-4337-9200-416afea5c059",
   "metadata": {
    "tags": []
   },
   "outputs": [],
   "source": [
    "# PCArea Distribution\n",
    "plt.figure(figsize=(16,6))\n",
    "ax = sns.countplot(data=cpp, \n",
    "                   x='PCArea',\n",
    "                   order= cpp['PCArea'].value_counts().sort_values(ascending=False).index,\n",
    "                   color=color)\n",
    "ax.set_title('PCArea Distribution')\n",
    "ax.set_xlabel('Count')\n",
    "\n",
    "# Add counts to the bar\n",
    "for container in ax.containers:\n",
    "    ax.bar_label(container, fmt='%d')\n",
    "\n",
    "plt.tight_layout()\n",
    "plt.show()"
   ]
  },
  {
   "cell_type": "code",
   "execution_count": null,
   "id": "dba7551f-36bf-49fb-a11d-ed70f745ba86",
   "metadata": {
    "tags": []
   },
   "outputs": [],
   "source": [
    "# Statistics of the Area Distribution\n",
    "print(f\"Average number of children in CPP per area: {cpp.PCArea.value_counts().mean()}\")\n",
    "print(f\"Median number of children in CPP per area: {cpp.PCArea.value_counts().median()}\")\n",
    "print(f\"STD of children in CPP per area: {round(cpp.PCArea.value_counts().std(),2)}\")"
   ]
  },
  {
   "cell_type": "code",
   "execution_count": null,
   "id": "5643079b-7af9-4bf3-8b63-5cf89104881a",
   "metadata": {
    "tags": []
   },
   "outputs": [],
   "source": [
    "\"\"\"\n",
    "What's the most common reason for intervention?\n",
    "\n",
    "\"\"\"\n",
    "\n",
    "# CPP Category Distribution\n",
    "plt.figure(figsize=(6,5))\n",
    "ax = sns.countplot(data=cpp, \n",
    "                   x='CPP_Category',\n",
    "                   order= cpp['CPP_Category'].value_counts().sort_values(ascending=False).index,\n",
    "                   color=color)\n",
    "ax.set_title('CPP Category Distribution')\n",
    "ax.set_xlabel('Count')\n",
    "\n",
    "# Add counts to the bar\n",
    "for container in ax.containers:\n",
    "    ax.bar_label(container, fmt='%d')\n",
    "\n",
    "plt.tight_layout()\n",
    "plt.show()"
   ]
  },
  {
   "cell_type": "code",
   "execution_count": null,
   "id": "a766d43e-8e45-4a50-9314-ac1f63fc70de",
   "metadata": {
    "tags": []
   },
   "outputs": [],
   "source": [
    "\"\"\"\n",
    "Is there pattern(s) in intervention reasons across areas?\n",
    "\n",
    "\"\"\"\n",
    "\n",
    "\n",
    "# Create a pivot table to count occurrences of each categories in each postcode area\n",
    "pivot_table = cpp.pivot_table(index='PCArea', columns='CPP_Category', aggfunc='size', fill_value=0)\n",
    "\n",
    "# Convert counts to percentages\n",
    "percentage_table = pivot_table.div(pivot_table.sum(axis=1), axis=0) * 100\n",
    "\n",
    "# Plot a heatmap\n",
    "plt.figure(figsize=(14, 8))\n",
    "sns.heatmap(percentage_table, annot=True, fmt=\".1f\", cmap=\"Purples\", cbar_kws={'label': 'Percentage'})\n",
    "plt.title('Distribution of CPP Categories by Postcode Area')\n",
    "plt.xlabel('Category')\n",
    "plt.ylabel('Postcode Area')\n",
    "plt.yticks(rotation=0)\n",
    "plt.tight_layout()\n",
    "plt.show()"
   ]
  },
  {
   "cell_type": "code",
   "execution_count": null,
   "id": "870e9e4f-b26c-4947-a63b-b04413c5ca7b",
   "metadata": {
    "tags": []
   },
   "outputs": [],
   "source": [
    "# Create a pivot table to count occurrences of each reason in each postcode area\n",
    "pivot_table = cpp.pivot_table(index='PCArea', columns='CPP_Category', aggfunc='size', fill_value=0)\n",
    "\n",
    "# Convert counts to percentages by categories\n",
    "percentage_table_by_category = pivot_table.div(pivot_table.sum(axis=0), axis=1) * 100\n",
    "\n",
    "# Plot a heatmap\n",
    "plt.figure(figsize=(14, 8))\n",
    "sns.heatmap(percentage_table_by_category, annot=True, fmt=\".1f\", cmap=\"Purples\", cbar_kws={'label': 'Percentage'})\n",
    "plt.title('Category Percentage Distribution Across Postcode Areas')\n",
    "plt.xlabel('Category')\n",
    "plt.ylabel('Postcode Area')\n",
    "plt.yticks(rotation=0)\n",
    "plt.tight_layout()\n",
    "plt.show()"
   ]
  },
  {
   "cell_type": "code",
   "execution_count": null,
   "id": "91b070f8-b442-4329-b17b-87133d942f6f",
   "metadata": {
    "tags": []
   },
   "outputs": [],
   "source": [
    "\"\"\"\n",
    "What's the distribution of the categories by the Ethnicity and across Ethnicities?\n",
    "\n",
    "\"\"\"\n",
    "# Identify the top 10 most frequent ethnic origins\n",
    "top_ethnic_origins = cpp['EthnicOrigin'].value_counts().nlargest(10).index\n",
    "\n",
    "# Filter the DataFrame to include only the top 10 ethnic origins\n",
    "filtered_cpp = cpp[cpp['EthnicOrigin'].isin(top_ethnic_origins)]\n",
    "\n",
    "# Create a pivot table to count occurrences of each categories  in each Ethnic Origin\n",
    "pivot_table_ethnicity = filtered_cpp.pivot_table(index='EthnicOrigin', columns='CPP_Category', aggfunc='size', fill_value=0)\n",
    "\n",
    "# Convert counts to percentages by categories\n",
    "percentage_table_by_ethnic_origin = pivot_table_ethnicity.div(pivot_table_ethnicity.sum(axis=1), axis=0) * 100\n",
    "\n",
    "# Plot a heatmap\n",
    "plt.figure(figsize=(14, 8))\n",
    "sns.heatmap(percentage_table_by_ethnic_origin, annot=True, fmt=\".1f\", cmap=\"Purples\", cbar_kws={'label': 'Percentage'})\n",
    "plt.title('Distribution of Categories by Top 10 Ethnic Origins')\n",
    "plt.ylabel('Ethnic Origin')\n",
    "plt.xlabel('Category')\n",
    "plt.yticks(rotation=0)\n",
    "plt.tight_layout()\n",
    "plt.show()"
   ]
  },
  {
   "cell_type": "code",
   "execution_count": null,
   "id": "0ad9a2f0-ed2b-4afc-b002-c0072cda3140",
   "metadata": {
    "tags": []
   },
   "outputs": [],
   "source": [
    "# Identify the top 10 most frequent ethnic origins\n",
    "top_ethnic_origins = cpp['EthnicOrigin'].value_counts().nlargest(10).index\n",
    "\n",
    "# Filter the DataFrame to include only the top 10 ethnic origins\n",
    "filtered_cpp = cpp[cpp['EthnicOrigin'].isin(top_ethnic_origins)]\n",
    "\n",
    "# Create a pivot table to count occurrences of each categories  in each Ethnic Origin\n",
    "pivot_table_ethnicity = filtered_cpp.pivot_table(index='EthnicOrigin', columns='CPP_Category', aggfunc='size', fill_value=0)\n",
    "\n",
    "# Convert counts to percentages by categories\n",
    "percentage_table_by_ethnic_origin = pivot_table_ethnicity.div(pivot_table_ethnicity.sum(axis=0), axis=1) * 100\n",
    "\n",
    "# Plot a heatmap\n",
    "plt.figure(figsize=(14, 8))\n",
    "sns.heatmap(percentage_table_by_ethnic_origin, annot=True, fmt=\".1f\", cmap=\"Purples\", cbar_kws={'label': 'Percentage'})\n",
    "plt.title('Distribution of Categories Accross Top 10 Ethnic Origins')\n",
    "plt.ylabel('Ethnic Origin')\n",
    "plt.xlabel('Category')\n",
    "plt.yticks(rotation=0)\n",
    "plt.tight_layout()\n",
    "plt.show()"
   ]
  },
  {
   "cell_type": "markdown",
   "id": "821efa04-71c3-41d6-b67d-fd9cdcd1f633",
   "metadata": {},
   "source": [
    "\n",
    "### What is the distribution of the Children in terms of Age at their time of entry into the intervention?"
   ]
  },
  {
   "cell_type": "code",
   "execution_count": null,
   "id": "86011024-3796-4df3-8d8e-b07947ed0d7c",
   "metadata": {
    "tags": []
   },
   "outputs": [],
   "source": [
    "\"\"\"\n",
    "What is the distribution of the Children in terms of Age at their time of entry into the intervention?\n",
    "\n",
    "\"\"\"\n",
    "\n",
    "# Calculate the age of each children by substracting their birth year from the year they entered the CPP\n",
    "cpp['AgeAtEntry'] = cpp.apply(\n",
    "    lambda row: relativedelta(row['StartDate'], row['DateOfBirth']).years,\n",
    "    axis=1\n",
    ").astype('int')\n",
    "\n",
    "\n",
    "max_age = cpp['AgeAtEntry'].max()\n",
    "\n",
    "# Plot the distribution of the Ages\n",
    "plt.figure(figsize=(8,6))\n",
    "sns.histplot(data=cpp, x='AgeAtEntry', color=color, kde=True, bins=range(0, cpp['AgeAtEntry'].max() + 1));\n",
    "plt.title(' Age Distribution of Children at the Time of Entry into CPP')\n",
    "plt.ylabel('Frequency')\n",
    "plt.xlabel('Age')\n",
    "\n",
    "# Set x-ticks to be integers\n",
    "plt.xticks(np.arange(0, max_age, step=1))\n",
    "plt.tight_layout()\n",
    "plt.show()"
   ]
  },
  {
   "cell_type": "markdown",
   "id": "ff59b209-9127-498e-b86b-70d74ff48af9",
   "metadata": {},
   "source": [
    "# Monthly Entry and Exit Trends in CPP"
   ]
  },
  {
   "cell_type": "code",
   "execution_count": null,
   "id": "640fea52-b6e2-4cfd-b28c-d842b322e430",
   "metadata": {
    "tags": []
   },
   "outputs": [],
   "source": [
    "# ENTRIES\n",
    "\n",
    "# Count entry cases per month\n",
    "monthly_entries = cpp['StartDate'].dt.to_period('M').value_counts().sort_index()\n",
    "\n",
    "# Exclude the last month because the data didn't capture the whole month\n",
    "last_month = monthly_entries.index[-1]\n",
    "monthly_entries = monthly_entries[monthly_entries.index != last_month]\n",
    "\n",
    "# Convert PeriodIndex to string for plotting\n",
    "monthly_entries.index = monthly_entries.index.astype(str)\n",
    "\n",
    "# EXITS\n",
    "\n",
    "# Count exit cases per month\n",
    "monthly_exits = cpp['EndDate'].dt.to_period('M').value_counts().sort_index()\n",
    "\n",
    "# Exclude the last month because the data didn't capture the whole month\n",
    "monthly_exits = monthly_exits[monthly_exits.index != last_month]\n",
    "monthly_exits.index = monthly_exits.index.astype(str)\n",
    "\n",
    "# Create figure with two subplots\n",
    "fig, (ax1, ax2) = plt.subplots(2, 1, figsize=(13, 10), height_ratios=[2, 1])\n",
    "\n",
    "# Top plot: Entries and Exits trends\n",
    "ax1.plot(monthly_entries.index, monthly_entries.values, marker='o', color=color, label='Monthly Entries')\n",
    "ax1.plot(monthly_exits.index, monthly_exits.values, marker='o', color='red', label='Monthly Exits')\n",
    "ax1.set_title(f'Monthly Trend of CPP Entries & Exits from {cpp.StartDate.min().date()} to {cpp.StartDate.max().date()} ')\n",
    "ax1.set_xlabel('')\n",
    "ax1.set_ylabel('Number of Cases')\n",
    "ax1.legend()\n",
    "ax1.tick_params(axis='x', rotation=45)\n",
    "ax1.grid(True, alpha=0.3)\n",
    "\n",
    "# Bottom plot: Net Change\n",
    "monthly_entries_aligned = monthly_entries.reindex(monthly_exits.index) # Ensures both series have same index (months).\n",
    "difference = monthly_entries_aligned - monthly_exits\n",
    "\n",
    "# Create bar plot for difference\n",
    "bars = ax2.bar(difference.index, difference.values, color='green', alpha=0.6)\n",
    "\n",
    "# Add horizontal line at y=0\n",
    "ax2.axhline(y=0, color='black', linestyle='-', linewidth=0.5)\n",
    "\n",
    "# Color bars based on positive/negative values\n",
    "for bar, value in zip(bars, difference.values):\n",
    "    if value < 0:\n",
    "        bar.set_color('red')\n",
    "    else:\n",
    "        bar.set_color('green')\n",
    "\n",
    "ax2.set_title('Net Change (Entries - Exits)')\n",
    "ax2.set_xlabel('Month')\n",
    "ax2.set_ylabel('Net Change')\n",
    "ax2.tick_params(axis='x', rotation=45)\n",
    "ax2.grid(True, alpha=0.3)\n",
    "\n",
    "# Adjust layout\n",
    "plt.tight_layout()\n",
    "plt.savefig('../figs/EntriesVsExits.png', dpi=300, bbox_inches='tight', facecolor='white')\n",
    "plt.show()\n",
    "\n",
    "# Print summary statistics\n",
    "print(\"\\nSummary of Net Changes:\")\n",
    "print(f\"Average monthly net change: {difference.mean():.1f}\")\n",
    "print(f\"Maximum increase: {difference.max():.0f}\")\n",
    "print(f\"Maximum decrease: {difference.min():.0f}\")\n",
    "print(f\"Months with net increase: {(difference > 0).sum()}\")\n",
    "print(f\"Months with net decrease: {(difference < 0).sum()}\")"
   ]
  },
  {
   "cell_type": "markdown",
   "id": "78d78f2b-4651-4df8-922d-ac97f481fda2",
   "metadata": {},
   "source": [
    "## Entries into CPP for Each Financial Year"
   ]
  },
  {
   "cell_type": "code",
   "execution_count": null,
   "id": "999ca26c-31b4-4d8b-bc16-816d9b7441ca",
   "metadata": {
    "tags": []
   },
   "outputs": [],
   "source": [
    "# Define financial years\n",
    "financial_years = [\n",
    "    ('2017/04-2018/03', '2017-04-01', '2018-03-31'),\n",
    "    ('2018/04-2019/03', '2018-04-01', '2019-03-31'),\n",
    "    ('2019/04-2020/03', '2019-04-01', '2020-03-31'),\n",
    "    ('2020/04-2021/03', '2020-04-01', '2021-03-31')\n",
    "]\n",
    "\n",
    "# Calculate entries for each financial year\n",
    "entries_by_fy = []\n",
    "for fy_label, start_date, end_date in financial_years:\n",
    "    mask = (cpp['StartDate'] >= start_date) & (cpp['StartDate'] <= end_date)\n",
    "    cpp_entries = cpp[mask].shape[0]\n",
    "    entries_by_fy.append({\n",
    "        'Financial Year': fy_label,\n",
    "        'Total Entries': cpp_entries\n",
    "    })\n",
    "\n",
    "# Create a DataFrame for the results\n",
    "result_df = pd.DataFrame(entries_by_fy)\n",
    "\n",
    "# Display as a formatted table\n",
    "print(\"\\nTotal Entries by Financial Year:\")\n",
    "result_df"
   ]
  },
  {
   "cell_type": "markdown",
   "id": "31f93afd-f896-43e7-a002-80215d652403",
   "metadata": {},
   "source": [
    "## What is the demand in intervention?"
   ]
  },
  {
   "cell_type": "code",
   "execution_count": null,
   "id": "fa958370-afb9-4f7c-8b0b-3db79c93cf04",
   "metadata": {
    "tags": []
   },
   "outputs": [],
   "source": [
    "# Align on the same monthly index; fill_value=0 ensures missing months get zero counts\n",
    "monthly_entries_aligned = monthly_entries.reindex(monthly_exits.index, fill_value=0)\n",
    "\n",
    "# Calculate monthly net change and the cumulative sum\n",
    "difference = monthly_entries_aligned - monthly_exits\n",
    "cumulative_in_intervention = difference.cumsum()  # Running total\n",
    "\n",
    "cumulative_in_intervention.index = cumulative_in_intervention.index.astype(str)\n",
    "\n",
    "# Plot the running total\n",
    "plt.figure(figsize=(8, 5))\n",
    "\n",
    "# Plot line without markers\n",
    "plt.plot(cumulative_in_intervention.index, cumulative_in_intervention.values, \n",
    "         color=color, linewidth=2)\n",
    "\n",
    "\n",
    "# Add markers only at start and end points\n",
    "start_date = cumulative_in_intervention.index[0]\n",
    "end_date = cumulative_in_intervention.index[-1]\n",
    "start_value = cumulative_in_intervention.values[0]\n",
    "end_value = cumulative_in_intervention.values[-1]\n",
    "\n",
    "# Plot markers\n",
    "plt.scatter([start_date, end_date], [start_value, end_value], \n",
    "            color=color, s=100, zorder=5)\n",
    "\n",
    "# Annotate start and end values\n",
    "plt.annotate(f'{int(start_value)}', \n",
    "            xy=(start_date, start_value),\n",
    "            xytext=(-10, 10),  # Offset the text slightly\n",
    "            textcoords='offset points',\n",
    "            ha='right',\n",
    "            va='bottom',\n",
    "            color=color)\n",
    "\n",
    "plt.annotate(f'{int(end_value)}', \n",
    "            xy=(end_date, end_value),\n",
    "            xytext=(10, 10),  # Offset the text slightly\n",
    "            textcoords='offset points',\n",
    "            ha='left',\n",
    "            va='bottom',\n",
    "            color=color)\n",
    "\n",
    "# Customize the plot\n",
    "plt.title('Running Total of Individuals In CPP', pad=20)\n",
    "plt.xlabel('Month')\n",
    "plt.ylabel('Cumulative Count')\n",
    "plt.grid(True, alpha=0.3)\n",
    "plt.xticks(rotation=45)\n",
    "\n",
    "# Show every 6th month label\n",
    "all_xticks = plt.gca().get_xticks()\n",
    "plt.gca().set_xticks(all_xticks[::6])\n",
    "plt.xticks(rotation=45)\n",
    "    \n",
    "# Remove chart borders\n",
    "sns.despine(left=True, right=True, top=True, bottom=True)\n",
    "plt.tight_layout()\n",
    "plt.savefig('../figs/cpp_cummsum_in_intervention.png', dpi=300, bbox_inches='tight', facecolor='white')\n",
    "plt.show()"
   ]
  },
  {
   "cell_type": "markdown",
   "id": "2c98b66a-ba89-496a-aec9-6021d6953679",
   "metadata": {},
   "source": [
    "# Number of days in intervention"
   ]
  },
  {
   "cell_type": "code",
   "execution_count": null,
   "id": "e8ea7389-dd44-41dd-8cb3-132ad6c5d035",
   "metadata": {
    "tags": []
   },
   "outputs": [],
   "source": [
    "# Subtract start date from end date to get number of days\n",
    "cpp['num_of_days_in_intervention'] = (cpp['EndDate'] - cpp['StartDate']).dt.days\n",
    "\n",
    "#Convert to integer wile preserving NA values using Int64\n",
    "cpp['num_of_days_in_intervention'] = cpp['num_of_days_in_intervention'].astype('Int64')"
   ]
  },
  {
   "cell_type": "code",
   "execution_count": null,
   "id": "c8f6437b-d172-4e89-b855-01049a8b4cbf",
   "metadata": {
    "tags": []
   },
   "outputs": [],
   "source": [
    "# Statistics of CPP Intervention Duration\n",
    "print(\"\\nBasic Statistics of Intervention Duration:\")\n",
    "print(cpp['num_of_days_in_intervention'].describe().round(2))\n",
    "\n",
    "print(\"\\nSummary of missing values:\")\n",
    "print(f\"Percentage missing: {(cpp['num_of_days_in_intervention'].isna().sum()/len(cpp))*100:.2f}%\")"
   ]
  },
  {
   "cell_type": "code",
   "execution_count": null,
   "id": "cec152f6-51e5-419c-8cbd-db92518a3cbf",
   "metadata": {
    "tags": []
   },
   "outputs": [],
   "source": [
    "# Distribution of Intervention Durations\n",
    "\n",
    "# Define the color for the non-highlighted bins\n",
    "grey_color = '#A9A9A9'  \n",
    "\n",
    "# Calculate bin edges from 0 to max value with steps of 30 days\n",
    "bin_edges = np.arange(0, max(cpp['num_of_days_in_intervention'].dropna()) + 30, 30)\n",
    "\n",
    "# Create histogram with calculated number of bins\n",
    "plt.figure(figsize=(10, 6))\n",
    "\n",
    "# Plot the histogram\n",
    "n, bins, patches = plt.hist(cpp['num_of_days_in_intervention'].dropna(), \n",
    "                            bins=bin_edges,\n",
    "                            color=grey_color,  # Default color for all bars\n",
    "                            edgecolor='black',\n",
    "                            alpha=0.7)\n",
    "\n",
    "# Highlight the 90-day bin\n",
    "for i, (patch, bin_start) in enumerate(zip(patches, bins)):\n",
    "    if bin_start == 60:  # Check if the bin starts at 60 days\n",
    "        patch.set_facecolor(color)  # Set the color for the 60-90 days bin\n",
    "        patch.set_edgecolor(color)\n",
    "        patch.set_alpha(0.9)  # Set transparency\n",
    "        # Annotate the 60-90 day bin\n",
    "        plt.text(bin_start + 15, n[i] + 5, 'Between 60-90 days', \n",
    "                 ha='center', va='bottom', fontsize=12, color=color, weight='normal')\n",
    "\n",
    "# Customize the plot\n",
    "plt.title('Distribution of Intervention Durations (30 days bin)', fontsize=14)\n",
    "plt.xlabel('Number of Days', fontsize=12)\n",
    "plt.ylabel('Frequency', fontsize=12)\n",
    "plt.grid(True, alpha=0.3)\n",
    "\n",
    "# Remove chart borders (spines)\n",
    "sns.despine(left=True, right=True, top=True, bottom=True)\n",
    "\n",
    "# Save and show the plot\n",
    "plt.tight_layout()\n",
    "plt.savefig('../figs/num_of_days.png', dpi=300, bbox_inches='tight', facecolor='white')\n",
    "plt.show()"
   ]
  },
  {
   "cell_type": "markdown",
   "id": "624a62c7-504c-4a89-b9cf-4635b1466949",
   "metadata": {},
   "source": [
    "## Age group distribution across the intervention"
   ]
  },
  {
   "cell_type": "code",
   "execution_count": null,
   "id": "ef5ef7a8-c3e5-4def-871d-3ed07ea12a6b",
   "metadata": {
    "tags": []
   },
   "outputs": [],
   "source": [
    "# Group Entry Ages\n",
    "bins = [0, 1, 4, 9, 15, 16]\n",
    "labels = ['Under 1', '1-4', '5-9', '10-15', '16+']\n",
    "\n",
    "# Create new age group column\n",
    "cpp['entry_agegroup'] = pd.cut(cpp['AgeAtEntry'], bins=bins, labels=labels, right=True)\n",
    "\n",
    "# Calculate percentages\n",
    "age_counts = cpp['entry_agegroup'].value_counts(normalize=True).sort_index() * 100\n",
    "\n",
    "# Plot distribution of entry age group\n",
    "plt.figure(figsize=(6, 4))\n",
    "ax = sns.barplot(x=age_counts.index, y=age_counts.values, color=color)\n",
    "\n",
    "# Add percentage labels on each bar\n",
    "for i, p in enumerate(ax.patches):\n",
    "    height = p.get_height()\n",
    "    ax.text(p.get_x() + p.get_width()/2.,\n",
    "            height + 1,\n",
    "            f'{height:.1f}%',\n",
    "            ha=\"center\", fontsize=10)\n",
    "\n",
    "plt.title('Age Group Distribution in CPP', fontsize=14, pad=20)\n",
    "plt.xlabel('Entry Age Group', fontsize=12)\n",
    "plt.ylabel('Percentage', fontsize=12)\n",
    "plt.ylim(0, max(age_counts.values) * 1.15)\n",
    "plt.tight_layout()\n",
    "plt.savefig(f'../figs/cpp_entryagegroup_dist.png', dpi=300)\n",
    "plt.show()"
   ]
  },
  {
   "cell_type": "code",
   "execution_count": null,
   "id": "b05e4194-6aef-4177-a8e9-d878551b394d",
   "metadata": {
    "tags": []
   },
   "outputs": [],
   "source": [
    "# Category distribution by Age Group\n",
    "\n",
    "# Create a count DataFrame\n",
    "count_df = cpp.groupby(['entry_agegroup', 'CPP_Category']).size().reset_index(name='count')\n",
    "\n",
    "# Create the line plot\n",
    "sns.lineplot(data=count_df, x='entry_agegroup', y='count', hue='CPP_Category', marker='o')\n",
    "plt.title('Distribution of Categories Across Age Groups')\n",
    "plt.tight_layout()\n",
    "plt.show()"
   ]
  }
 ],
 "metadata": {
  "environment": {
   "kernel": "python3",
   "name": "r-cpu.m125",
   "type": "gcloud",
   "uri": "us-docker.pkg.dev/deeplearning-platform-release/gcr.io/r-cpu:m125"
  },
  "kernelspec": {
   "display_name": "Python 3 (Local)",
   "language": "python",
   "name": "python3"
  },
  "language_info": {
   "codemirror_mode": {
    "name": "ipython",
    "version": 3
   },
   "file_extension": ".py",
   "mimetype": "text/x-python",
   "name": "python",
   "nbconvert_exporter": "python",
   "pygments_lexer": "ipython3",
   "version": "3.10.15"
  },
  "toc-autonumbering": false,
  "toc-showcode": false
 },
 "nbformat": 4,
 "nbformat_minor": 5
}
