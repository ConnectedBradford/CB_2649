{
 "cells": [
  {
   "cell_type": "markdown",
   "id": "9e0edb35-50ca-47d3-960c-394f9594a682",
   "metadata": {},
   "source": [
    "# Child in Need Plan (CiNP) LSOA Analysis\n"
   ]
  },
  {
   "cell_type": "markdown",
   "id": "312e3dac-1285-47df-b9f0-bdf454c02da8",
   "metadata": {},
   "source": [
    "# Importing Necessary Libraries"
   ]
  },
  {
   "cell_type": "code",
   "execution_count": null,
   "id": "988ed269-d7e1-4930-ba68-7c11e314c5fa",
   "metadata": {
    "tags": []
   },
   "outputs": [],
   "source": [
    "#import bigquery\n",
    "from google.cloud import bigquery\n",
    "from google.cloud import bigquery_storage\n",
    " \n",
    "#other needed libraries\n",
    "import os\n",
    "import pandas as pd\n",
    "import numpy as np\n",
    "import pandas_gbq\n",
    "from dateutil.relativedelta import relativedelta\n",
    "import seaborn as sns\n",
    "import matplotlib.pyplot as plt\n",
    "plt.style.use('ggplot')\n",
    "import geopandas as gpd\n",
    "import warnings\n",
    "warnings.filterwarnings('ignore')\n",
    "color='#702A7D'"
   ]
  },
  {
   "cell_type": "code",
   "execution_count": null,
   "id": "50de648f-6415-4cb5-be1f-f4b2a271022a",
   "metadata": {
    "tags": []
   },
   "outputs": [],
   "source": [
    "os.environ[\"GOOGLE_APPLICATION_CREDENTIALS\"] = \"/home/jupyter/.config/gcloud/application_default_credentials.json\"\n",
    "\n",
    "#Instatiate BigQuery Client\n",
    "client = bigquery.Client()"
   ]
  },
  {
   "cell_type": "markdown",
   "id": "9ac3e06c-d44a-48e6-b322-3fe0df973f09",
   "metadata": {},
   "source": [
    "# Define Query to Get Data"
   ]
  },
  {
   "cell_type": "code",
   "execution_count": null,
   "id": "c8405091-564a-4c35-a5c4-7877d7dd698a",
   "metadata": {
    "tags": []
   },
   "outputs": [],
   "source": [
    "query = \"\"\"\n",
    "WITH cinp_WithAddress AS (\n",
    "  SELECT\n",
    "    cinp.person_id,\n",
    "    cinp.StartDate,\n",
    "    cinp.EndDate,\n",
    "    cinp.YearOfBirth,\n",
    "    cinp.EthnicOrigin,\n",
    "    DATE(p.birth_datetime) AS DateOfBirth,\n",
    "    p.gender_source_value AS Gender,\n",
    "    a.SOA AS LSOA,\n",
    "    /* For each cinp row, rank the joined address rows \n",
    "       (if any) by DateEventRecorded (converted to DATE) descending */\n",
    "       \n",
    "    ROW_NUMBER() OVER (\n",
    "      PARTITION BY cinp.person_id, cinp.StartDate\n",
    "      ORDER BY DATE(a.DateEvent) DESC\n",
    "    ) AS rn\n",
    "  FROM\n",
    "    `yhcr-prd-bradfor-bia-core.CB_2649.cb_bmbc_ChildrensSocialServices_CiNP` cinp\n",
    "  LEFT JOIN\n",
    "    `yhcr-prd-bradfor-bia-core.CB_2649.tbl_AddressHistory_New` a\n",
    "      ON cinp.person_id = a.person_id\n",
    "      AND DATE(a.DateEvent) <= cinp.StartDate\n",
    "  LEFT JOIN\n",
    "    `yhcr-prd-bradfor-bia-core.CB_2649.person` p\n",
    "      ON cinp.person_id = p.person_id\n",
    ")\n",
    "SELECT \n",
    "  person_id,\n",
    "  Gender,      \n",
    "  StartDate,\n",
    "  EndDate,\n",
    "  YearOfBirth,\n",
    "  EthnicOrigin,\n",
    "  DateOfBirth,\n",
    "  LSOA\n",
    "FROM\n",
    "  cinp_WithAddress\n",
    "WHERE \n",
    "  rn = 1;\n",
    "\"\"\""
   ]
  },
  {
   "cell_type": "markdown",
   "id": "d0275c60-dde8-4797-a11b-241df0cd1596",
   "metadata": {},
   "source": [
    "## Load Intervention, Boundary, IMD, and Population Data"
   ]
  },
  {
   "cell_type": "code",
   "execution_count": null,
   "id": "e1fe6dc5-c755-41d7-9725-1131ff8fd7db",
   "metadata": {
    "tags": []
   },
   "outputs": [],
   "source": [
    "# Intervention Data\n",
    "cinp = pandas_gbq.read_gbq(query)\n",
    "\n",
    "# Boundary Data\n",
    "boundary_data_filepath = \"../data/BradfordBoundaryData/england_lsoa_2021.shp\"\n",
    "bradford_boundary_data = gpd.read_file(boundary_data_filepath)\n",
    "\n",
    "# IMD Data\n",
    "imd_filepath = \"../data/English IMD 2019/IMD_2019.shp\"\n",
    "imd_data = gpd.read_file(imd_filepath)\n",
    "\n",
    "# Population Data\n",
    "population_data_file_path = '../data/Bradford_Children_population_0-17_2021.csv'\n",
    "population_data = pd.read_csv(population_data_file_path)"
   ]
  },
  {
   "cell_type": "code",
   "execution_count": null,
   "id": "5707bf8a-79c7-4fc9-8124-870438caeec7",
   "metadata": {
    "tags": []
   },
   "outputs": [],
   "source": [
    "import sys\n",
    "sys.path.append('../code')\n",
    "\n",
    "import lsoa_analysis_helper as lah\n",
    "import data_cleaning as dc"
   ]
  },
  {
   "cell_type": "code",
   "execution_count": null,
   "id": "b2f1593f-f0f3-4c8c-9777-2f40b9a983ec",
   "metadata": {
    "tags": []
   },
   "outputs": [],
   "source": [
    "# Clean the data using the data cleaning module\n",
    "# Fill Missing DoB\n",
    "cinp = dc.fill_missing_dob(cinp, 'YearOfBirth', 'DateOfBirth')\n",
    "\n",
    "# Convert Date columns datatype\n",
    "date_columns = ['StartDate', 'DateOfBirth', 'EndDate']\n",
    "cinp = dc.convert_dates_datatype(cinp, date_columns)\n",
    "\n",
    "# Calculate age at entry (completed years)\n",
    "cinp['age_at_entry'] = cinp.apply(\n",
    "    lambda row: relativedelta(row['StartDate'], row['DateOfBirth']).years,\n",
    "    axis=1\n",
    ").astype('int')\n",
    "\n",
    "# Keep rows where age is between 0-17\n",
    "cinp = cinp.loc[cinp['age_at_entry'] < 18]"
   ]
  },
  {
   "cell_type": "code",
   "execution_count": null,
   "id": "b60bf597-e87e-4d67-9e00-520e78d41978",
   "metadata": {
    "tags": []
   },
   "outputs": [],
   "source": [
    "# Prepare data by merging with boundary, imd, and population data\n",
    "merged_data, children_population = lah.prepare_intervention_data(\n",
    "    cinp,\n",
    "    bradford_boundary_data,\n",
    "    imd_data,\n",
    "    population_data,\n",
    "    intervention_name='CINP',\n",
    "    lsoa_column='LSOA'\n",
    ")"
   ]
  },
  {
   "cell_type": "code",
   "execution_count": null,
   "id": "2e135f7b-b3b1-42af-a330-eac3dd030514",
   "metadata": {
    "tags": []
   },
   "outputs": [],
   "source": [
    "# Calculate intervention rates\n",
    "cinp_rates = lah.calculate_intervention_rates(\n",
    "    cinp,\n",
    "    bradford_boundary_data,\n",
    "    imd_data,\n",
    "    population_data,\n",
    "    intervention_name='CINP'\n",
    ")\n",
    "\n",
    "# Plot the intervention rate map\n",
    "lah.plot_intervention_map(\n",
    "    cinp_rates,\n",
    "    intervention_name='CINP'\n",
    ")"
   ]
  },
  {
   "cell_type": "code",
   "execution_count": null,
   "id": "e412c4fb-4cb1-4ffb-92a1-3a15cee5494e",
   "metadata": {
    "tags": []
   },
   "outputs": [],
   "source": [
    "# Table showing LSOA, children count, children population, and rate of intervention per 1000 children\n",
    "intervention_rate = cinp_rates[['lsoa21cd', 'children_count', 'TotalPop','intervention_children_per_1000_children']]\n",
    "intervention_rate = intervention_rate.rename(columns={\n",
    "    'TotalPop': 'children_population',\n",
    "    'intervention_children_per_1000_children': 'cinp_children_per_1000_children'\n",
    "})\n",
    "intervention_rate_df = intervention_rate.sort_values(by='cinp_children_per_1000_children', ascending=False)\n",
    "intervention_rate_df"
   ]
  },
  {
   "cell_type": "code",
   "execution_count": null,
   "id": "a10cdd3c-88f1-4692-95fa-bcd7b34c690d",
   "metadata": {
    "tags": []
   },
   "outputs": [],
   "source": [
    "# Cumulative proportion plot\n",
    "lah.plot_cumulative_distribution(\n",
    "    cinp_rates,\n",
    "    intervention_name='CINP'\n",
    ")"
   ]
  },
  {
   "cell_type": "code",
   "execution_count": null,
   "id": "3f83dd65-df0b-4ef6-963e-a7a67ef2c6e3",
   "metadata": {
    "tags": []
   },
   "outputs": [],
   "source": [
    "# Intervention rate vs IMD decile relationship\n",
    "lah.analyze_imd_relationship(\n",
    "    cinp_rates,\n",
    "    intervention_name='CINP'\n",
    ")"
   ]
  },
  {
   "cell_type": "code",
   "execution_count": null,
   "id": "99a59b6f-9bc0-4c4e-b141-e77eb9cd6cde",
   "metadata": {
    "tags": []
   },
   "outputs": [],
   "source": [
    "# Analyze age distribution\n",
    "lah.analyze_age_distribution(\n",
    "    merged_data,\n",
    "    children_population,\n",
    "    intervention_name='CINP',\n",
    "    percentile_thresholds=[90, 80],\n",
    "    age_column='age_at_entry'\n",
    ")"
   ]
  },
  {
   "cell_type": "code",
   "execution_count": null,
   "id": "962a7304-6bd3-445d-a75e-aaf8d09f105e",
   "metadata": {
    "tags": []
   },
   "outputs": [],
   "source": [
    "# Analyze ethnicity distribution\n",
    "lah.analyze_ethnicity_distribution(\n",
    "    merged_data,\n",
    "    children_population,\n",
    "    intervention_name='CINP',\n",
    "    percentile_thresholds=[90, 80],\n",
    "    ethnicity_column='EthnicOrigin'\n",
    ")"
   ]
  },
  {
   "cell_type": "code",
   "execution_count": null,
   "id": "69eba808-08fe-447c-9e9a-09ed3d793a94",
   "metadata": {},
   "outputs": [],
   "source": [
    "lah.analyze_grouped_ethnicity_distribution(\n",
    "    merged_data,\n",
    "    children_population,\n",
    "    intervention_name='CINP',\n",
    "    percentile_thresholds=[90, 80],\n",
    "    ethnicity_column='EthnicOrigin'\n",
    ")"
   ]
  },
  {
   "cell_type": "code",
   "execution_count": null,
   "id": "579f8b86-ca5d-46f5-8c2c-f60233034296",
   "metadata": {
    "tags": []
   },
   "outputs": [],
   "source": [
    "# Analyze IMD domains at 90th percentile\n",
    "lah.analyze_imd_domains(\n",
    "    children_population,\n",
    "    percentile_threshold=90,\n",
    "    intervention_name='CINP'\n",
    ")"
   ]
  },
  {
   "cell_type": "code",
   "execution_count": null,
   "id": "8fa37b55-7516-4230-9808-1ef170f3f45e",
   "metadata": {
    "tags": []
   },
   "outputs": [],
   "source": [
    "# Analyze IMD domains at 80th percentile\n",
    "lah.analyze_imd_domains(\n",
    "    children_population,\n",
    "    percentile_threshold=80,\n",
    "    intervention_name='CINP'\n",
    ")"
   ]
  }
 ],
 "metadata": {
  "environment": {
   "kernel": "python3",
   "name": "r-cpu.m125",
   "type": "gcloud",
   "uri": "us-docker.pkg.dev/deeplearning-platform-release/gcr.io/r-cpu:m125"
  },
  "kernelspec": {
   "display_name": "Python 3 (Local)",
   "language": "python",
   "name": "python3"
  },
  "language_info": {
   "codemirror_mode": {
    "name": "ipython",
    "version": 3
   },
   "file_extension": ".py",
   "mimetype": "text/x-python",
   "name": "python",
   "nbconvert_exporter": "python",
   "pygments_lexer": "ipython3",
   "version": "3.10.15"
  }
 },
 "nbformat": 4,
 "nbformat_minor": 5
}
