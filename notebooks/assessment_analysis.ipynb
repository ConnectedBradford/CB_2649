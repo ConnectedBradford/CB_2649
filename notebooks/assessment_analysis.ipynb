{
 "cells": [
  {
   "cell_type": "markdown",
   "id": "878e0113-23e5-482d-ba13-0136bb0f457d",
   "metadata": {},
   "source": [
    "# Assessments across interventions"
   ]
  },
  {
   "cell_type": "code",
   "execution_count": null,
   "id": "1e4434d7-41f0-4c08-929f-b8840ab0fc91",
   "metadata": {},
   "outputs": [],
   "source": [
    "#import bigquery\n",
    "from google.cloud import bigquery\n",
    "from google.cloud import bigquery_storage\n",
    " \n",
    "#other needed libraries\n",
    "import os\n",
    "import pandas as pd\n",
    "import numpy as np\n",
    "import pandas_gbq\n",
    "import seaborn as sns\n",
    "import matplotlib.pyplot as plt\n",
    "import warnings\n",
    "warnings.filterwarnings('ignore')\n",
    "plt.style.use('tableau-colorblind10')\n",
    "color='#702A7D'"
   ]
  },
  {
   "cell_type": "code",
   "execution_count": null,
   "id": "c0099a1f-7161-49ef-8d86-5c5af43367de",
   "metadata": {},
   "outputs": [],
   "source": [
    "os.environ[\"GOOGLE_APPLICATION_CREDENTIALS\"] = \"/home/jupyter/.config/gcloud/application_default_credentials.json\"\n",
    "\n",
    "#Instatiate BigQuery Client\n",
    "client = bigquery.Client()"
   ]
  },
  {
   "cell_type": "code",
   "execution_count": null,
   "id": "609e3ea4-0f2f-414c-a2ad-1e7f6049ce4b",
   "metadata": {},
   "outputs": [],
   "source": [
    "query = \"\"\"\n",
    "WITH assessment_cat as (SELECT \n",
    "  a.person_id\n",
    "  ,a.AssessmentID\n",
    "  ,f.category\n",
    "  ,f.subcategory\n",
    "FROM\n",
    "  `CB_2649.tbl_bmbc_Childrens_Social_Services_Assessments` a\n",
    "\n",
    "LEFT JOIN `CB_2649.cb_FactorLookup` f\n",
    "ON a.FactorID = f.FactorID)\n",
    "SELECT ac.person_id\n",
    "  ,STRING_AGG(distinct ac.category, ', ') AS all_categories\n",
    "  ,p.gender_source_value as gender\n",
    "FROM assessment_cat ac\n",
    "LEFT JOIN yhcr-prd-bradfor-bia-core.CB_2649.person p\n",
    "on ac.person_id = p.person_id\n",
    "GROUP BY ac.person_id,p.gender_source_value;\n",
    "\"\"\""
   ]
  },
  {
   "cell_type": "markdown",
   "id": "172dcfce-0726-4ff7-b3ab-4b3570798c29",
   "metadata": {},
   "source": [
    "# Load Qu"
   ]
  },
  {
   "cell_type": "code",
   "execution_count": null,
   "id": "aaf76afb-efc8-4d1e-9d42-3e3b32da516b",
   "metadata": {},
   "outputs": [],
   "source": [
    "assessment = pandas_gbq.read_gbq(query)"
   ]
  },
  {
   "cell_type": "code",
   "execution_count": null,
   "id": "25b2a21d-f3dd-414d-b54f-99f4b9c0e722",
   "metadata": {},
   "outputs": [],
   "source": []
  },
  {
   "cell_type": "code",
   "execution_count": null,
   "id": "8e08f5d3-3b91-4ac9-97fb-24b2cc57d23a",
   "metadata": {},
   "outputs": [],
   "source": []
  }
 ],
 "metadata": {
  "environment": {
   "kernel": "python3",
   "name": "r-cpu.m125",
   "type": "gcloud",
   "uri": "us-docker.pkg.dev/deeplearning-platform-release/gcr.io/r-cpu:m125"
  },
  "kernelspec": {
   "display_name": "Python 3 (Local)",
   "language": "python",
   "name": "python3"
  },
  "language_info": {
   "codemirror_mode": {
    "name": "ipython",
    "version": 3
   },
   "file_extension": ".py",
   "mimetype": "text/x-python",
   "name": "python",
   "nbconvert_exporter": "python",
   "pygments_lexer": "ipython3",
   "version": "3.10.15"
  }
 },
 "nbformat": 4,
 "nbformat_minor": 5
}
