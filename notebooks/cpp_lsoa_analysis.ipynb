{
 "cells": [
  {
   "cell_type": "markdown",
   "id": "9e0edb35-50ca-47d3-960c-394f9594a682",
   "metadata": {},
   "source": [
    "# Looked After Children (LAC) LSOA Analysis\n"
   ]
  },
  {
   "cell_type": "markdown",
   "id": "312e3dac-1285-47df-b9f0-bdf454c02da8",
   "metadata": {},
   "source": [
    "# Importing Necessary Libraries"
   ]
  },
  {
   "cell_type": "code",
   "execution_count": null,
   "id": "988ed269-d7e1-4930-ba68-7c11e314c5fa",
   "metadata": {
    "tags": []
   },
   "outputs": [
    {
     "name": "stderr",
     "output_type": "stream",
     "text": [
      "/opt/conda/lib/python3.10/site-packages/spaghetti/network.py:41: FutureWarning: The next major release of pysal/spaghetti (2.0.0) will drop support for all ``libpysal.cg`` geometries. This change is a first step in refactoring ``spaghetti`` that is expected to result in dramatically reduced runtimes for network instantiation and operations. Users currently requiring network and point pattern input as ``libpysal.cg`` geometries should prepare for this simply by converting to ``shapely`` geometries.\n",
      "  warnings.warn(dep_msg, FutureWarning, stacklevel=1)\n"
     ]
    }
   ],
   "source": [
    "#import bigquery\n",
    "from google.cloud import bigquery\n",
    "from google.cloud import bigquery_storage\n",
    " \n",
    "#other needed libraries\n",
    "import os\n",
    "import pandas as pd\n",
    "import numpy as np\n",
    "import pandas_gbq\n",
    "import seaborn as sns\n",
    "import matplotlib.pyplot as plt\n",
    "import geopandas as gpd\n",
    "import mapclassify\n",
    "from scipy import stats\n",
    "import contextily as ctx\n",
    "import libpysal\n",
    "from pysal.explore import esda\n",
    "from esda.moran import Moran, Moran_Local\n",
    "from libpysal.weights import Queen, Rook\n",
    "\n",
    "\n",
    "import warnings\n",
    "warnings.filterwarnings('ignore')\n",
    "\n",
    "plt.style.use('tableau-colorblind10')\n",
    "color='#702A7D'"
   ]
  },
  {
   "cell_type": "code",
   "execution_count": null,
   "id": "50de648f-6415-4cb5-be1f-f4b2a271022a",
   "metadata": {
    "tags": []
   },
   "outputs": [],
   "source": [
    "os.environ[\"GOOGLE_APPLICATION_CREDENTIALS\"] = \"/home/jupyter/.config/gcloud/application_default_credentials.json\"\n",
    "\n",
    "#Instatiate BigQuery Client\n",
    "client = bigquery.Client()"
   ]
  },
  {
   "cell_type": "markdown",
   "id": "9ac3e06c-d44a-48e6-b322-3fe0df973f09",
   "metadata": {},
   "source": [
    "# Define Query to Get Data"
   ]
  },
  {
   "cell_type": "code",
   "execution_count": null,
   "id": "c8405091-564a-4c35-a5c4-7877d7dd698a",
   "metadata": {
    "tags": []
   },
   "outputs": [],
   "source": [
    "query = \"\"\"\n",
    "WITH LatestAssessment AS (\n",
    "    SELECT\n",
    "        a.person_id,\n",
    "        a.StartDate,\n",
    "        ROW_NUMBER() OVER (PARTITION BY a.person_id ORDER BY a.StartDate DESC) as rn,\n",
    "        f.category\n",
    "    FROM\n",
    "        yhcr-prd-bradfor-bia-core.CB_2649.tbl_bmbc_Childrens_Social_Services_Assessments AS a\n",
    "    LEFT JOIN\n",
    "        yhcr-prd-bradfor-bia-core.CB_2649.cb_FactorLookup AS f\n",
    "        ON a.factorid = f.factorid\n",
    ")\n",
    "\n",
    "SELECT\n",
    "    cpp.person_id,\n",
    "    cpp.PCArea_Home AS PCArea,\n",
    "    cpp.StartDate,\n",
    "    cpp.EndDate,\n",
    "    cpp.EthnicOrigin,\n",
    "    p.birth_datetime AS DateOfBirth,\n",
    "    lsoa.LSOA,\n",
    "    la.category as Category\n",
    "FROM\n",
    "    yhcr-prd-bradfor-bia-core.CB_2649.cb_bmbc_ChildrensSocialServices_CPP AS cpp\n",
    "LEFT JOIN\n",
    "    yhcr-prd-bradfor-bia-core.CB_2649.person AS p\n",
    "    ON cpp.person_id = p.person_id\n",
    "LEFT JOIN\n",
    "    yhcr-prd-bradfor-bia-core.CB_2649.personLSOA AS lsoa\n",
    "    ON cpp.person_id = lsoa.person_id\n",
    "LEFT JOIN\n",
    "    LatestAssessment la\n",
    "    ON cpp.person_id = la.person_id\n",
    "    AND la.rn = 1;\n",
    "\"\"\""
   ]
  }
 ],
 "metadata": {
  "environment": {
   "kernel": "python3",
   "name": "r-cpu.m125",
   "type": "gcloud",
   "uri": "us-docker.pkg.dev/deeplearning-platform-release/gcr.io/r-cpu:m125"
  },
  "kernelspec": {
   "display_name": "Python 3 (Local)",
   "language": "python",
   "name": "python3"
  },
  "language_info": {
   "codemirror_mode": {
    "name": "ipython",
    "version": 3
   },
   "file_extension": ".py",
   "mimetype": "text/x-python",
   "name": "python",
   "nbconvert_exporter": "python",
   "pygments_lexer": "ipython3",
   "version": "3.10.15"
  }
 },
 "nbformat": 4,
 "nbformat_minor": 5
}
