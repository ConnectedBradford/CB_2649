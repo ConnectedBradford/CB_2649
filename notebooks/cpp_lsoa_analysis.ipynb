{
 "cells": [
  {
   "cell_type": "markdown",
   "id": "9e0edb35-50ca-47d3-960c-394f9594a682",
   "metadata": {},
   "source": [
    "# Child Protection Plans (CPP) LSOA Analysis\n"
   ]
  },
  {
   "cell_type": "markdown",
   "id": "312e3dac-1285-47df-b9f0-bdf454c02da8",
   "metadata": {},
   "source": [
    "# Importing Necessary Libraries"
   ]
  },
  {
   "cell_type": "code",
   "execution_count": null,
   "id": "988ed269-d7e1-4930-ba68-7c11e314c5fa",
   "metadata": {
    "tags": []
   },
   "outputs": [],
   "source": [
    "#import bigquery\n",
    "from google.cloud import bigquery\n",
    "from google.cloud import bigquery_storage\n",
    " \n",
    "#other needed libraries\n",
    "import os\n",
    "import pandas as pd\n",
    "import numpy as np\n",
    "import pandas_gbq\n",
    "from dateutil.relativedelta import relativedelta\n",
    "import seaborn as sns\n",
    "import matplotlib.pyplot as plt\n",
    "plt.style.use('ggplot')\n",
    "import geopandas as gpd\n",
    "import warnings\n",
    "warnings.filterwarnings('ignore')\n",
    "color='#702A7D'"
   ]
  },
  {
   "cell_type": "code",
   "execution_count": null,
   "id": "50de648f-6415-4cb5-be1f-f4b2a271022a",
   "metadata": {
    "tags": []
   },
   "outputs": [],
   "source": [
    "os.environ[\"GOOGLE_APPLICATION_CREDENTIALS\"] = \"/home/jupyter/.config/gcloud/application_default_credentials.json\"\n",
    "\n",
    "#Instatiate BigQuery Client\n",
    "client = bigquery.Client()"
   ]
  },
  {
   "cell_type": "markdown",
   "id": "9ac3e06c-d44a-48e6-b322-3fe0df973f09",
   "metadata": {},
   "source": [
    "# Define Query to Get Data"
   ]
  },
  {
   "cell_type": "code",
   "execution_count": null,
   "id": "c8405091-564a-4c35-a5c4-7877d7dd698a",
   "metadata": {
    "tags": []
   },
   "outputs": [],
   "source": [
    "query = \"\"\"\n",
    "WITH CPP_WithAddress AS (\n",
    "  SELECT\n",
    "    cpp.person_id,\n",
    "    cpp.StartDate,\n",
    "    cpp.EndDate,\n",
    "    cpp.YearOfBirth,\n",
    "    cpp.EthnicOrigin,\n",
    "    DATE(p.birth_datetime) AS DateOfBirth,\n",
    "    p.gender_source_value AS Gender,\n",
    "    a.SOA AS LSOA,\n",
    "    /* For each cpp row, rank the joined address rows \n",
    "       (if any) by DateEvent (converted to DATE) descending */\n",
    "       \n",
    "    ROW_NUMBER() OVER (\n",
    "      PARTITION BY cpp.person_id, cpp.StartDate\n",
    "      ORDER BY DATE(a.DateEvent) DESC\n",
    "    ) AS rn\n",
    "  FROM\n",
    "    `yhcr-prd-bradfor-bia-core.CB_2649.cb_bmbc_ChildrensSocialServices_CPP` cpp\n",
    "  LEFT JOIN\n",
    "    `yhcr-prd-bradfor-bia-core.CB_2649.tbl_AddressHistory_New` a\n",
    "      ON cpp.person_id = a.person_id\n",
    "      AND DATE(a.DateEvent) <= cpp.StartDate\n",
    "  LEFT JOIN\n",
    "    `yhcr-prd-bradfor-bia-core.CB_2649.person` p\n",
    "      ON cpp.person_id = p.person_id\n",
    ")\n",
    "SELECT \n",
    "  person_id,\n",
    "  Gender,      \n",
    "  StartDate,\n",
    "  EndDate,\n",
    "  EthnicOrigin,\n",
    "  YearOfBirth,\n",
    "  DateOfBirth,\n",
    "  LSOA\n",
    "FROM\n",
    "  CPP_WithAddress\n",
    "WHERE \n",
    "  rn = 1;\n",
    "\"\"\""
   ]
  },
  {
   "cell_type": "markdown",
   "id": "9260cec5-dfe6-405b-8cc8-872b5675fc68",
   "metadata": {},
   "source": [
    "## Load Intervention, Boundary, IMD, and Population Data"
   ]
  },
  {
   "cell_type": "code",
   "execution_count": null,
   "id": "5700d9eb-5f47-4df4-8555-24882985ce3f",
   "metadata": {
    "tags": []
   },
   "outputs": [],
   "source": [
    "# Intervention Data\n",
    "cpp = pandas_gbq.read_gbq(query)\n",
    "\n",
    "# Boundary Data\n",
    "boundary_data_filepath = \"../data/BradfordBoundaryData/england_lsoa_2021.shp\"\n",
    "bradford_boundary_data = gpd.read_file(boundary_data_filepath)\n",
    "\n",
    "# IMD Data\n",
    "imd_filepath = \"../data/English IMD 2019/IMD_2019.shp\"\n",
    "imd_data = gpd.read_file(imd_filepath)\n",
    "\n",
    "# Population Data\n",
    "population_data_file_path = '../data/Bradford_Children_population_0-17_2021.csv'\n",
    "population_data = pd.read_csv(population_data_file_path)"
   ]
  },
  {
   "cell_type": "code",
   "execution_count": null,
   "id": "4770ca0a-b5e8-4fc1-a15a-bb4bd0e9eea4",
   "metadata": {
    "tags": []
   },
   "outputs": [],
   "source": [
    "# Import function helpers\n",
    "import sys\n",
    "sys.path.append('../code')\n",
    "\n",
    "import lsoa_analysis_helper as lah\n",
    "import data_cleaning as dc"
   ]
  },
  {
   "cell_type": "code",
   "execution_count": null,
   "id": "05a62722-deb1-4151-aec1-a41398b52577",
   "metadata": {
    "tags": []
   },
   "outputs": [],
   "source": [
    "# Clean the data using the data cleaning module\n",
    "# Fill Missing DoB\n",
    "cpp = dc.fill_missing_dob(cpp, 'YearOfBirth', 'DateOfBirth')\n",
    "\n",
    "# Convert Date columns datatype\n",
    "date_columns = ['StartDate', 'DateOfBirth', 'EndDate']\n",
    "cpp = dc.convert_dates_datatype(cpp, date_columns)\n",
    "\n",
    "# Calculate age at entry (completed years)\n",
    "cpp['age_at_entry'] = cpp.apply(\n",
    "    lambda row: relativedelta(row['StartDate'], row['DateOfBirth']).years,\n",
    "    axis=1\n",
    ").astype('int')\n",
    "\n",
    "# Keep rows where age is between 0-17\n",
    "cpp = cpp.loc[cpp['age_at_entry'] < 18]"
   ]
  },
  {
   "cell_type": "code",
   "execution_count": null,
   "id": "2e4dd118-0c71-4cf1-9542-098421364d71",
   "metadata": {
    "tags": []
   },
   "outputs": [],
   "source": [
    "# Prepare data by merging with boundary, imd, and population data\n",
    "merged_data, children_population = lah.prepare_intervention_data(\n",
    "    cpp,\n",
    "    bradford_boundary_data,\n",
    "    imd_data,\n",
    "    population_data,\n",
    "    intervention_name='CPP',\n",
    "    lsoa_column='LSOA'\n",
    ")"
   ]
  },
  {
   "cell_type": "code",
   "execution_count": null,
   "id": "077a8c01-f2c4-4199-84f6-a240c7f7bba4",
   "metadata": {
    "tags": []
   },
   "outputs": [],
   "source": [
    "# Calculate intervention rates\n",
    "cpp_rates = lah.calculate_intervention_rates(\n",
    "    cpp,\n",
    "    bradford_boundary_data,\n",
    "    imd_data,\n",
    "    population_data,\n",
    "    intervention_name='CPP'\n",
    ")\n",
    "\n",
    "# Plot the intervention rate map\n",
    "lah.plot_intervention_map(\n",
    "    cpp_rates,\n",
    "    intervention_name='CPP'\n",
    ")"
   ]
  },
  {
   "cell_type": "code",
   "execution_count": null,
   "id": "5b039166-2575-413c-b6e1-55f8daf4e695",
   "metadata": {},
   "outputs": [],
   "source": [
    "# Table showing LSOA, children count, children population, and rate of intervention per 1000 children\n",
    "intervention_rate = cpp_rates[['lsoa21cd', 'children_count', 'TotalPop','intervention_children_per_1000_children']]\n",
    "intervention_rate = intervention_rate.rename(columns={\n",
    "    'TotalPop': 'children_population',\n",
    "    'intervention_children_per_1000_children': 'cpp_children_per_1000_children'\n",
    "})\n",
    "intervention_rate_df = intervention_rate.sort_values(by='cpp_children_per_1000_children', ascending=False)\n",
    "intervention_rate_df"
   ]
  },
  {
   "cell_type": "code",
   "execution_count": null,
   "id": "23891d32-ef6e-47ca-ba38-44591ffbced1",
   "metadata": {
    "tags": []
   },
   "outputs": [],
   "source": [
    "# Cumulative proportion plot\n",
    "lah.plot_cumulative_distribution(\n",
    "    cpp_rates,\n",
    "    intervention_name='CPP'\n",
    ")"
   ]
  },
  {
   "cell_type": "code",
   "execution_count": null,
   "id": "9826ca74-2477-4b62-87f5-9c3bf58b7371",
   "metadata": {
    "tags": []
   },
   "outputs": [],
   "source": [
    "# Intervention rate vs IMD decile relationship\n",
    "lah.analyze_imd_relationship(\n",
    "    cpp_rates,\n",
    "    intervention_name='CPP'\n",
    ")"
   ]
  },
  {
   "cell_type": "code",
   "execution_count": null,
   "id": "066f807c-337b-4d05-9803-b66408364f1e",
   "metadata": {
    "tags": []
   },
   "outputs": [],
   "source": [
    "# Analyze age distribution\n",
    "lah.analyze_age_distribution(\n",
    "    merged_data,\n",
    "    children_population,\n",
    "    intervention_name='CPP',\n",
    "    percentile_thresholds=[90, 80],\n",
    "    age_column='age_at_entry'\n",
    ")"
   ]
  },
  {
   "cell_type": "code",
   "execution_count": null,
   "id": "dc9c6ed5-d1d5-4c26-be09-47dbd903ec64",
   "metadata": {
    "tags": []
   },
   "outputs": [],
   "source": [
    "# Analyze ethnicity distribution\n",
    "lah.analyze_ethnicity_distribution(\n",
    "    merged_data,\n",
    "    children_population,\n",
    "    intervention_name='CPP',\n",
    "    percentile_thresholds=[90, 80],\n",
    "    ethnicity_column='EthnicOrigin'\n",
    ")"
   ]
  },
  {
   "cell_type": "code",
   "execution_count": null,
   "id": "55de4403-315b-4eaf-827a-a3486564d7b7",
   "metadata": {
    "tags": []
   },
   "outputs": [],
   "source": [
    "lah.analyze_grouped_ethnicity_distribution(\n",
    "    merged_data,\n",
    "    children_population,\n",
    "    intervention_name='CPP',\n",
    "    percentile_thresholds=[90, 80],\n",
    "    ethnicity_column='EthnicOrigin'\n",
    ")"
   ]
  },
  {
   "cell_type": "code",
   "execution_count": null,
   "id": "2f882d45-d480-4993-ae3e-a3187853a0f9",
   "metadata": {
    "tags": []
   },
   "outputs": [],
   "source": [
    "# Analyze IMD domains at 90th percentile\n",
    "lah.analyze_imd_domains(\n",
    "    children_population,\n",
    "    percentile_threshold=90,\n",
    "    intervention_name='CPP'\n",
    ")"
   ]
  },
  {
   "cell_type": "code",
   "execution_count": null,
   "id": "5fbfb66b-dbba-4b54-a0c5-7e0bce037c0c",
   "metadata": {
    "tags": []
   },
   "outputs": [],
   "source": [
    "# Analyze IMD domains at 80th percentile\n",
    "lah.analyze_imd_domains(\n",
    "    children_population,\n",
    "    percentile_threshold=80,\n",
    "    intervention_name='CPP'\n",
    ")"
   ]
  }
 ],
 "metadata": {
  "environment": {
   "kernel": "python3",
   "name": "r-cpu.m125",
   "type": "gcloud",
   "uri": "us-docker.pkg.dev/deeplearning-platform-release/gcr.io/r-cpu:m125"
  },
  "kernelspec": {
   "display_name": "Python 3 (Local)",
   "language": "python",
   "name": "python3"
  },
  "language_info": {
   "codemirror_mode": {
    "name": "ipython",
    "version": 3
   },
   "file_extension": ".py",
   "mimetype": "text/x-python",
   "name": "python",
   "nbconvert_exporter": "python",
   "pygments_lexer": "ipython3",
   "version": "3.10.15"
  }
 },
 "nbformat": 4,
 "nbformat_minor": 5
}
